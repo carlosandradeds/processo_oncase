{
 "cells": [
  {
   "cell_type": "markdown",
   "id": "c3bfd4bc",
   "metadata": {},
   "source": [
    "# 0.0 Imports"
   ]
  },
  {
   "cell_type": "code",
   "execution_count": 95,
   "id": "9a63627e",
   "metadata": {
    "ExecuteTime": {
     "end_time": "2023-01-26T02:47:55.092506Z",
     "start_time": "2023-01-26T02:47:55.078515Z"
    }
   },
   "outputs": [],
   "source": [
    "import pandas as pd\n",
    "import numpy as np\n",
    "import seaborn as sns\n",
    "\n",
    "from matplotlib              import pyplot as plt\n",
    "\n",
    "from sklearn.model_selection import cross_val_score\n",
    "from sklearn.metrics         import mean_squared_error\n",
    "\n",
    "from sklearn.linear_model    import LinearRegression\n",
    "\n",
    "from sklearn.ensemble        import RandomForestRegressor"
   ]
  },
  {
   "cell_type": "markdown",
   "id": "648e5803",
   "metadata": {},
   "source": [
    "## 0.1 Load Dataset"
   ]
  },
  {
   "cell_type": "code",
   "execution_count": 71,
   "id": "771ae7f8",
   "metadata": {
    "ExecuteTime": {
     "end_time": "2023-01-26T02:06:27.995302Z",
     "start_time": "2023-01-26T02:06:27.981303Z"
    }
   },
   "outputs": [],
   "source": [
    "train = pd.read_csv('regression_train.csv')\n",
    "\n",
    "test = pd.read_csv('regression_test.csv')"
   ]
  },
  {
   "cell_type": "code",
   "execution_count": 58,
   "id": "5eea10b9",
   "metadata": {
    "ExecuteTime": {
     "end_time": "2023-01-26T02:02:18.587627Z",
     "start_time": "2023-01-26T02:02:18.566639Z"
    }
   },
   "outputs": [
    {
     "data": {
      "text/html": [
       "<div>\n",
       "<style scoped>\n",
       "    .dataframe tbody tr th:only-of-type {\n",
       "        vertical-align: middle;\n",
       "    }\n",
       "\n",
       "    .dataframe tbody tr th {\n",
       "        vertical-align: top;\n",
       "    }\n",
       "\n",
       "    .dataframe thead th {\n",
       "        text-align: right;\n",
       "    }\n",
       "</style>\n",
       "<table border=\"1\" class=\"dataframe\">\n",
       "  <thead>\n",
       "    <tr style=\"text-align: right;\">\n",
       "      <th></th>\n",
       "      <th>target</th>\n",
       "      <th>X1</th>\n",
       "      <th>X2</th>\n",
       "      <th>X3</th>\n",
       "      <th>X4</th>\n",
       "      <th>X5</th>\n",
       "      <th>X6</th>\n",
       "      <th>X7</th>\n",
       "    </tr>\n",
       "  </thead>\n",
       "  <tbody>\n",
       "    <tr>\n",
       "      <th>0</th>\n",
       "      <td>NaN</td>\n",
       "      <td>-0.546168</td>\n",
       "      <td>NaN</td>\n",
       "      <td>47.063305</td>\n",
       "      <td>1.611370</td>\n",
       "      <td>-65.882137</td>\n",
       "      <td>0</td>\n",
       "      <td>-16.672865</td>\n",
       "    </tr>\n",
       "    <tr>\n",
       "      <th>1</th>\n",
       "      <td>47.735389</td>\n",
       "      <td>3.074317</td>\n",
       "      <td>-2.836000</td>\n",
       "      <td>49.396649</td>\n",
       "      <td>0.261998</td>\n",
       "      <td>-66.570716</td>\n",
       "      <td>0</td>\n",
       "      <td>-6.664599</td>\n",
       "    </tr>\n",
       "    <tr>\n",
       "      <th>2</th>\n",
       "      <td>NaN</td>\n",
       "      <td>-1.485531</td>\n",
       "      <td>-13.102537</td>\n",
       "      <td>42.367991</td>\n",
       "      <td>3.991558</td>\n",
       "      <td>-67.108014</td>\n",
       "      <td>8</td>\n",
       "      <td>-30.790962</td>\n",
       "    </tr>\n",
       "    <tr>\n",
       "      <th>3</th>\n",
       "      <td>908.202209</td>\n",
       "      <td>6.907396</td>\n",
       "      <td>-0.308967</td>\n",
       "      <td>57.228787</td>\n",
       "      <td>0.256771</td>\n",
       "      <td>-66.181266</td>\n",
       "      <td>5</td>\n",
       "      <td>-0.726072</td>\n",
       "    </tr>\n",
       "    <tr>\n",
       "      <th>4</th>\n",
       "      <td>1640.461863</td>\n",
       "      <td>1.916788</td>\n",
       "      <td>3.460290</td>\n",
       "      <td>51.703375</td>\n",
       "      <td>2.463790</td>\n",
       "      <td>-65.143663</td>\n",
       "      <td>5</td>\n",
       "      <td>8.131680</td>\n",
       "    </tr>\n",
       "  </tbody>\n",
       "</table>\n",
       "</div>"
      ],
      "text/plain": [
       "        target        X1         X2         X3        X4         X5  X6  \\\n",
       "0          NaN -0.546168        NaN  47.063305  1.611370 -65.882137   0   \n",
       "1    47.735389  3.074317  -2.836000  49.396649  0.261998 -66.570716   0   \n",
       "2          NaN -1.485531 -13.102537  42.367991  3.991558 -67.108014   8   \n",
       "3   908.202209  6.907396  -0.308967  57.228787  0.256771 -66.181266   5   \n",
       "4  1640.461863  1.916788   3.460290  51.703375  2.463790 -65.143663   5   \n",
       "\n",
       "          X7  \n",
       "0 -16.672865  \n",
       "1  -6.664599  \n",
       "2 -30.790962  \n",
       "3  -0.726072  \n",
       "4   8.131680  "
      ]
     },
     "execution_count": 58,
     "metadata": {},
     "output_type": "execute_result"
    }
   ],
   "source": [
    "train.head()"
   ]
  },
  {
   "cell_type": "markdown",
   "id": "c9a60e0c",
   "metadata": {
    "ExecuteTime": {
     "end_time": "2023-01-25T00:27:35.774898Z",
     "start_time": "2023-01-25T00:27:35.759907Z"
    }
   },
   "source": [
    "# 1.0 Data Description"
   ]
  },
  {
   "cell_type": "markdown",
   "id": "45a1f8fe",
   "metadata": {},
   "source": [
    "## 1.1 Data Dimension"
   ]
  },
  {
   "cell_type": "code",
   "execution_count": 5,
   "id": "c77f8372",
   "metadata": {
    "ExecuteTime": {
     "end_time": "2023-01-26T01:00:37.725596Z",
     "start_time": "2023-01-26T01:00:37.719601Z"
    }
   },
   "outputs": [
    {
     "name": "stdout",
     "output_type": "stream",
     "text": [
      "Number of rows: 1042\n",
      "Number of Columns: 8\n"
     ]
    }
   ],
   "source": [
    "print('Number of rows: {}'.format(train.shape[0]))\n",
    "\n",
    "print('Number of Columns: {}'.format(train.shape[1]))"
   ]
  },
  {
   "cell_type": "markdown",
   "id": "9e8c916d",
   "metadata": {
    "ExecuteTime": {
     "end_time": "2023-01-25T00:31:06.495910Z",
     "start_time": "2023-01-25T00:31:06.485916Z"
    }
   },
   "source": [
    "## 1.2 Check NA"
   ]
  },
  {
   "cell_type": "code",
   "execution_count": 6,
   "id": "3cb0868d",
   "metadata": {
    "ExecuteTime": {
     "end_time": "2023-01-26T01:00:39.629223Z",
     "start_time": "2023-01-26T01:00:39.615233Z"
    }
   },
   "outputs": [
    {
     "data": {
      "text/plain": [
       "target    327\n",
       "X1          0\n",
       "X2         11\n",
       "X3          0\n",
       "X4          0\n",
       "X5          0\n",
       "X6          0\n",
       "X7          0\n",
       "dtype: int64"
      ]
     },
     "execution_count": 6,
     "metadata": {},
     "output_type": "execute_result"
    }
   ],
   "source": [
    "train.isna().sum()"
   ]
  },
  {
   "cell_type": "markdown",
   "id": "13006e2d",
   "metadata": {
    "ExecuteTime": {
     "end_time": "2023-01-25T00:31:06.495910Z",
     "start_time": "2023-01-25T00:31:06.485916Z"
    }
   },
   "source": [
    "## 1.3 Data Types"
   ]
  },
  {
   "cell_type": "code",
   "execution_count": 7,
   "id": "2896d34b",
   "metadata": {
    "ExecuteTime": {
     "end_time": "2023-01-26T01:00:41.860330Z",
     "start_time": "2023-01-26T01:00:41.839343Z"
    }
   },
   "outputs": [
    {
     "data": {
      "text/plain": [
       "target    float64\n",
       "X1        float64\n",
       "X2        float64\n",
       "X3        float64\n",
       "X4        float64\n",
       "X5        float64\n",
       "X6          int64\n",
       "X7        float64\n",
       "dtype: object"
      ]
     },
     "execution_count": 7,
     "metadata": {},
     "output_type": "execute_result"
    }
   ],
   "source": [
    "train.dtypes"
   ]
  },
  {
   "cell_type": "markdown",
   "id": "d3361c27",
   "metadata": {},
   "source": [
    "## 1.4 Descriptive Statistics"
   ]
  },
  {
   "cell_type": "code",
   "execution_count": 8,
   "id": "86672738",
   "metadata": {
    "ExecuteTime": {
     "end_time": "2023-01-26T01:00:43.409610Z",
     "start_time": "2023-01-26T01:00:43.368244Z"
    }
   },
   "outputs": [
    {
     "data": {
      "text/html": [
       "<div>\n",
       "<style scoped>\n",
       "    .dataframe tbody tr th:only-of-type {\n",
       "        vertical-align: middle;\n",
       "    }\n",
       "\n",
       "    .dataframe tbody tr th {\n",
       "        vertical-align: top;\n",
       "    }\n",
       "\n",
       "    .dataframe thead th {\n",
       "        text-align: right;\n",
       "    }\n",
       "</style>\n",
       "<table border=\"1\" class=\"dataframe\">\n",
       "  <thead>\n",
       "    <tr style=\"text-align: right;\">\n",
       "      <th></th>\n",
       "      <th>target</th>\n",
       "      <th>X1</th>\n",
       "      <th>X2</th>\n",
       "      <th>X3</th>\n",
       "      <th>X4</th>\n",
       "      <th>X5</th>\n",
       "      <th>X6</th>\n",
       "      <th>X7</th>\n",
       "    </tr>\n",
       "  </thead>\n",
       "  <tbody>\n",
       "    <tr>\n",
       "      <th>count</th>\n",
       "      <td>715.000000</td>\n",
       "      <td>1042.000000</td>\n",
       "      <td>1031.000000</td>\n",
       "      <td>1042.000000</td>\n",
       "      <td>1042.000000</td>\n",
       "      <td>1042.000000</td>\n",
       "      <td>1042.000000</td>\n",
       "      <td>1042.000000</td>\n",
       "    </tr>\n",
       "    <tr>\n",
       "      <th>mean</th>\n",
       "      <td>1349.940229</td>\n",
       "      <td>2.421925</td>\n",
       "      <td>-0.460781</td>\n",
       "      <td>52.094329</td>\n",
       "      <td>2.462871</td>\n",
       "      <td>-65.284233</td>\n",
       "      <td>4.381958</td>\n",
       "      <td>-1.287435</td>\n",
       "    </tr>\n",
       "    <tr>\n",
       "      <th>std</th>\n",
       "      <td>1593.201095</td>\n",
       "      <td>3.182976</td>\n",
       "      <td>4.426286</td>\n",
       "      <td>31.374828</td>\n",
       "      <td>2.541632</td>\n",
       "      <td>9.033489</td>\n",
       "      <td>3.290306</td>\n",
       "      <td>11.066380</td>\n",
       "    </tr>\n",
       "    <tr>\n",
       "      <th>min</th>\n",
       "      <td>0.062551</td>\n",
       "      <td>-8.699406</td>\n",
       "      <td>-13.651540</td>\n",
       "      <td>38.035456</td>\n",
       "      <td>0.002360</td>\n",
       "      <td>-121.450423</td>\n",
       "      <td>0.000000</td>\n",
       "      <td>-69.835905</td>\n",
       "    </tr>\n",
       "    <tr>\n",
       "      <th>25%</th>\n",
       "      <td>230.632308</td>\n",
       "      <td>0.170590</td>\n",
       "      <td>-3.307931</td>\n",
       "      <td>47.087106</td>\n",
       "      <td>0.671196</td>\n",
       "      <td>-69.126630</td>\n",
       "      <td>0.000000</td>\n",
       "      <td>-7.830007</td>\n",
       "    </tr>\n",
       "    <tr>\n",
       "      <th>50%</th>\n",
       "      <td>808.374368</td>\n",
       "      <td>2.508671</td>\n",
       "      <td>-0.461150</td>\n",
       "      <td>49.972867</td>\n",
       "      <td>1.652609</td>\n",
       "      <td>-65.360660</td>\n",
       "      <td>5.000000</td>\n",
       "      <td>-1.074191</td>\n",
       "    </tr>\n",
       "    <tr>\n",
       "      <th>75%</th>\n",
       "      <td>1849.754221</td>\n",
       "      <td>4.540218</td>\n",
       "      <td>2.406651</td>\n",
       "      <td>52.674305</td>\n",
       "      <td>3.361181</td>\n",
       "      <td>-61.187635</td>\n",
       "      <td>8.000000</td>\n",
       "      <td>5.659476</td>\n",
       "    </tr>\n",
       "    <tr>\n",
       "      <th>max</th>\n",
       "      <td>10382.469480</td>\n",
       "      <td>12.380693</td>\n",
       "      <td>12.926106</td>\n",
       "      <td>500.000000</td>\n",
       "      <td>18.813009</td>\n",
       "      <td>53.919202</td>\n",
       "      <td>8.000000</td>\n",
       "      <td>30.376348</td>\n",
       "    </tr>\n",
       "  </tbody>\n",
       "</table>\n",
       "</div>"
      ],
      "text/plain": [
       "             target           X1           X2           X3           X4  \\\n",
       "count    715.000000  1042.000000  1031.000000  1042.000000  1042.000000   \n",
       "mean    1349.940229     2.421925    -0.460781    52.094329     2.462871   \n",
       "std     1593.201095     3.182976     4.426286    31.374828     2.541632   \n",
       "min        0.062551    -8.699406   -13.651540    38.035456     0.002360   \n",
       "25%      230.632308     0.170590    -3.307931    47.087106     0.671196   \n",
       "50%      808.374368     2.508671    -0.461150    49.972867     1.652609   \n",
       "75%     1849.754221     4.540218     2.406651    52.674305     3.361181   \n",
       "max    10382.469480    12.380693    12.926106   500.000000    18.813009   \n",
       "\n",
       "                X5           X6           X7  \n",
       "count  1042.000000  1042.000000  1042.000000  \n",
       "mean    -65.284233     4.381958    -1.287435  \n",
       "std       9.033489     3.290306    11.066380  \n",
       "min    -121.450423     0.000000   -69.835905  \n",
       "25%     -69.126630     0.000000    -7.830007  \n",
       "50%     -65.360660     5.000000    -1.074191  \n",
       "75%     -61.187635     8.000000     5.659476  \n",
       "max      53.919202     8.000000    30.376348  "
      ]
     },
     "execution_count": 8,
     "metadata": {},
     "output_type": "execute_result"
    }
   ],
   "source": [
    "train.describe()"
   ]
  },
  {
   "cell_type": "markdown",
   "id": "661e523d",
   "metadata": {},
   "source": [
    "## 1.5 Fill NA"
   ]
  },
  {
   "cell_type": "code",
   "execution_count": 75,
   "id": "20c81a49",
   "metadata": {
    "ExecuteTime": {
     "end_time": "2023-01-26T02:11:43.812014Z",
     "start_time": "2023-01-26T02:11:43.802020Z"
    }
   },
   "outputs": [],
   "source": [
    "#fillna train data\n",
    "train.interpolate(method='linear', limit_direction='both', inplace=True)\n",
    "\n",
    "#fillna test data\n",
    "test.interpolate(method='linear', limit_direction='both', inplace=True)"
   ]
  },
  {
   "cell_type": "markdown",
   "id": "6ea83d78",
   "metadata": {},
   "source": [
    "# 2.0 Feature Importance"
   ]
  },
  {
   "cell_type": "code",
   "execution_count": 96,
   "id": "ae29fead",
   "metadata": {
    "ExecuteTime": {
     "end_time": "2023-01-26T02:49:00.791777Z",
     "start_time": "2023-01-26T02:49:00.349737Z"
    }
   },
   "outputs": [
    {
     "data": {
      "text/plain": [
       "<AxesSubplot: >"
      ]
     },
     "execution_count": 96,
     "metadata": {},
     "output_type": "execute_result"
    },
    {
     "data": {
      "image/png": "[encoded data removed]",
      "text/plain": [
       "<Figure size 432x288 with 2 Axes>"
      ]
     },
     "metadata": {
      "needs_background": "light"
     },
     "output_type": "display_data"
    }
   ],
   "source": [
    "correlation = train.corr()\n",
    "\n",
    "\n",
    "plot = sns.heatmap(correlation, annot = True, fmt=\".1f\", linewidths=.6)\n",
    "plot"
   ]
  },
  {
   "cell_type": "code",
   "execution_count": 83,
   "id": "fa47f445",
   "metadata": {
    "ExecuteTime": {
     "end_time": "2023-01-26T02:30:05.779268Z",
     "start_time": "2023-01-26T02:30:05.232898Z"
    }
   },
   "outputs": [
    {
     "data": {
      "text/html": [
       "<style>#sk-container-id-4 {color: black;background-color: white;}#sk-container-id-4 pre{padding: 0;}#sk-container-id-4 div.sk-toggleable {background-color: white;}#sk-container-id-4 label.sk-toggleable__label {cursor: pointer;display: block;width: 100%;margin-bottom: 0;padding: 0.3em;box-sizing: border-box;text-align: center;}#sk-container-id-4 label.sk-toggleable__label-arrow:before {content: \"▸\";float: left;margin-right: 0.25em;color: #696969;}#sk-container-id-4 label.sk-toggleable__label-arrow:hover:before {color: black;}#sk-container-id-4 div.sk-estimator:hover label.sk-toggleable__label-arrow:before {color: black;}#sk-container-id-4 div.sk-toggleable__content {max-height: 0;max-width: 0;overflow: hidden;text-align: left;background-color: #f0f8ff;}#sk-container-id-4 div.sk-toggleable__content pre {margin: 0.2em;color: black;border-radius: 0.25em;background-color: #f0f8ff;}#sk-container-id-4 input.sk-toggleable__control:checked~div.sk-toggleable__content {max-height: 200px;max-width: 100%;overflow: auto;}#sk-container-id-4 input.sk-toggleable__control:checked~label.sk-toggleable__label-arrow:before {content: \"▾\";}#sk-container-id-4 div.sk-estimator input.sk-toggleable__control:checked~label.sk-toggleable__label {background-color: #d4ebff;}#sk-container-id-4 div.sk-label input.sk-toggleable__control:checked~label.sk-toggleable__label {background-color: #d4ebff;}#sk-container-id-4 input.sk-hidden--visually {border: 0;clip: rect(1px 1px 1px 1px);clip: rect(1px, 1px, 1px, 1px);height: 1px;margin: -1px;overflow: hidden;padding: 0;position: absolute;width: 1px;}#sk-container-id-4 div.sk-estimator {font-family: monospace;background-color: #f0f8ff;border: 1px dotted black;border-radius: 0.25em;box-sizing: border-box;margin-bottom: 0.5em;}#sk-container-id-4 div.sk-estimator:hover {background-color: #d4ebff;}#sk-container-id-4 div.sk-parallel-item::after {content: \"\";width: 100%;border-bottom: 1px solid gray;flex-grow: 1;}#sk-container-id-4 div.sk-label:hover label.sk-toggleable__label {background-color: #d4ebff;}#sk-container-id-4 div.sk-serial::before {content: \"\";position: absolute;border-left: 1px solid gray;box-sizing: border-box;top: 0;bottom: 0;left: 50%;z-index: 0;}#sk-container-id-4 div.sk-serial {display: flex;flex-direction: column;align-items: center;background-color: white;padding-right: 0.2em;padding-left: 0.2em;position: relative;}#sk-container-id-4 div.sk-item {position: relative;z-index: 1;}#sk-container-id-4 div.sk-parallel {display: flex;align-items: stretch;justify-content: center;background-color: white;position: relative;}#sk-container-id-4 div.sk-item::before, #sk-container-id-4 div.sk-parallel-item::before {content: \"\";position: absolute;border-left: 1px solid gray;box-sizing: border-box;top: 0;bottom: 0;left: 50%;z-index: -1;}#sk-container-id-4 div.sk-parallel-item {display: flex;flex-direction: column;z-index: 1;position: relative;background-color: white;}#sk-container-id-4 div.sk-parallel-item:first-child::after {align-self: flex-end;width: 50%;}#sk-container-id-4 div.sk-parallel-item:last-child::after {align-self: flex-start;width: 50%;}#sk-container-id-4 div.sk-parallel-item:only-child::after {width: 0;}#sk-container-id-4 div.sk-dashed-wrapped {border: 1px dashed gray;margin: 0 0.4em 0.5em 0.4em;box-sizing: border-box;padding-bottom: 0.4em;background-color: white;}#sk-container-id-4 div.sk-label label {font-family: monospace;font-weight: bold;display: inline-block;line-height: 1.2em;}#sk-container-id-4 div.sk-label-container {text-align: center;}#sk-container-id-4 div.sk-container {/* jupyter's `normalize.less` sets `[hidden] { display: none; }` but bootstrap.min.css set `[hidden] { display: none !important; }` so we also need the `!important` here to be able to override the default hidden behavior on the sphinx rendered scikit-learn.org. See: https://github.com/scikit-learn/scikit-learn/issues/21755 */display: inline-block !important;position: relative;}#sk-container-id-4 div.sk-text-repr-fallback {display: none;}</style><div id=\"sk-container-id-4\" class=\"sk-top-container\"><div class=\"sk-text-repr-fallback\"><pre>RandomForestRegressor(n_estimators=250, n_jobs=-1, random_state=0)</pre><b>In a Jupyter environment, please rerun this cell to show the HTML representation or trust the notebook. <br />On GitHub, the HTML representation is unable to render, please try loading this page with nbviewer.org.</b></div><div class=\"sk-container\" hidden><div class=\"sk-item\"><div class=\"sk-estimator sk-toggleable\"><input class=\"sk-toggleable__control sk-hidden--visually\" id=\"sk-estimator-id-4\" type=\"checkbox\" checked><label for=\"sk-estimator-id-4\" class=\"sk-toggleable__label sk-toggleable__label-arrow\">RandomForestRegressor</label><div class=\"sk-toggleable__content\"><pre>RandomForestRegressor(n_estimators=250, n_jobs=-1, random_state=0)</pre></div></div></div></div></div>"
      ],
      "text/plain": [
       "RandomForestRegressor(n_estimators=250, n_jobs=-1, random_state=0)"
      ]
     },
     "execution_count": 83,
     "metadata": {},
     "output_type": "execute_result"
    }
   ],
   "source": [
    "# model definition\n",
    "forest =  RandomForestRegressor(n_estimators=250, random_state=0, n_jobs=-1)\n",
    "\n",
    "# data preparation\n",
    "x_train_n = train.drop( ['target'], axis=1 )\n",
    "y_train_n = train['target']\n",
    "forest.fit( x_train_n, y_train_n )"
   ]
  },
  {
   "cell_type": "code",
   "execution_count": 84,
   "id": "19676d0c",
   "metadata": {
    "ExecuteTime": {
     "end_time": "2023-01-26T02:30:08.257190Z",
     "start_time": "2023-01-26T02:30:07.976100Z"
    }
   },
   "outputs": [
    {
     "name": "stdout",
     "output_type": "stream",
     "text": [
      "Feature ranking:\n",
      "  feature  importance\n",
      "0      X2    0.600850\n",
      "0      X7    0.198773\n",
      "0      X1    0.055056\n",
      "0      X3    0.049637\n",
      "0      X4    0.048493\n",
      "0      X5    0.038044\n",
      "0      X6    0.009147\n"
     ]
    },
    {
     "data": {
      "image/png": "[encoded data removed]",
      "text/plain": [
       "<Figure size 432x288 with 1 Axes>"
      ]
     },
     "metadata": {
      "needs_background": "light"
     },
     "output_type": "display_data"
    }
   ],
   "source": [
    "importances = forest.feature_importances_\n",
    "std = np.std([tree.feature_importances_ for tree in forest.estimators_], axis=0)\n",
    "indices = np.argsort(importances)[::-1]\n",
    "\n",
    "# Print the feature ranking\n",
    "print(\"Feature ranking:\")\n",
    "df = pd.DataFrame()\n",
    "for i, j in zip( x_train_n, forest.feature_importances_ ):\n",
    "    aux = pd.DataFrame( {'feature': i, 'importance': j}, index=[0] )\n",
    "    df = pd.concat( [df, aux], axis=0 )\n",
    "    \n",
    "print( df.sort_values( 'importance', ascending=False ) )\n",
    "\n",
    "# Plot the impurity-based feature importances of the forest\n",
    "plt.figure()\n",
    "plt.title(\"Feature importances\")\n",
    "plt.bar(range(x_train_n.shape[1]), importances[indices], color=\"r\", yerr=std[indices], align=\"center\")\n",
    "plt.xticks(range(x_train_n.shape[1]), indices)\n",
    "plt.xlim([-1, x_train_n.shape[1]])\n",
    "plt.show()"
   ]
  },
  {
   "cell_type": "markdown",
   "id": "4e09a4e6",
   "metadata": {},
   "source": [
    "# 3.0 Machine Learning Model"
   ]
  },
  {
   "cell_type": "code",
   "execution_count": 85,
   "id": "9c9ffd52",
   "metadata": {
    "ExecuteTime": {
     "end_time": "2023-01-26T02:38:43.231684Z",
     "start_time": "2023-01-26T02:38:43.212549Z"
    }
   },
   "outputs": [],
   "source": [
    "lr = LinearRegression(n_jobs=-1)"
   ]
  },
  {
   "cell_type": "code",
   "execution_count": 86,
   "id": "3a701df0",
   "metadata": {
    "ExecuteTime": {
     "end_time": "2023-01-26T02:38:44.458289Z",
     "start_time": "2023-01-26T02:38:44.443298Z"
    }
   },
   "outputs": [],
   "source": [
    "X = train.drop('target', axis=1)\n",
    "y = train['target'].copy()"
   ]
  },
  {
   "cell_type": "code",
   "execution_count": 87,
   "id": "364d7504",
   "metadata": {
    "ExecuteTime": {
     "end_time": "2023-01-26T02:38:45.694292Z",
     "start_time": "2023-01-26T02:38:45.683299Z"
    }
   },
   "outputs": [],
   "source": [
    "X_val = test.drop('target', axis=1)\n",
    "y_val = test['target'].copy()"
   ]
  },
  {
   "cell_type": "code",
   "execution_count": 88,
   "id": "376b6dd7",
   "metadata": {
    "ExecuteTime": {
     "end_time": "2023-01-26T02:38:48.969232Z",
     "start_time": "2023-01-26T02:38:48.947247Z"
    }
   },
   "outputs": [
    {
     "data": {
      "text/html": [
       "<style>#sk-container-id-5 {color: black;background-color: white;}#sk-container-id-5 pre{padding: 0;}#sk-container-id-5 div.sk-toggleable {background-color: white;}#sk-container-id-5 label.sk-toggleable__label {cursor: pointer;display: block;width: 100%;margin-bottom: 0;padding: 0.3em;box-sizing: border-box;text-align: center;}#sk-container-id-5 label.sk-toggleable__label-arrow:before {content: \"▸\";float: left;margin-right: 0.25em;color: #696969;}#sk-container-id-5 label.sk-toggleable__label-arrow:hover:before {color: black;}#sk-container-id-5 div.sk-estimator:hover label.sk-toggleable__label-arrow:before {color: black;}#sk-container-id-5 div.sk-toggleable__content {max-height: 0;max-width: 0;overflow: hidden;text-align: left;background-color: #f0f8ff;}#sk-container-id-5 div.sk-toggleable__content pre {margin: 0.2em;color: black;border-radius: 0.25em;background-color: #f0f8ff;}#sk-container-id-5 input.sk-toggleable__control:checked~div.sk-toggleable__content {max-height: 200px;max-width: 100%;overflow: auto;}#sk-container-id-5 input.sk-toggleable__control:checked~label.sk-toggleable__label-arrow:before {content: \"▾\";}#sk-container-id-5 div.sk-estimator input.sk-toggleable__control:checked~label.sk-toggleable__label {background-color: #d4ebff;}#sk-container-id-5 div.sk-label input.sk-toggleable__control:checked~label.sk-toggleable__label {background-color: #d4ebff;}#sk-container-id-5 input.sk-hidden--visually {border: 0;clip: rect(1px 1px 1px 1px);clip: rect(1px, 1px, 1px, 1px);height: 1px;margin: -1px;overflow: hidden;padding: 0;position: absolute;width: 1px;}#sk-container-id-5 div.sk-estimator {font-family: monospace;background-color: #f0f8ff;border: 1px dotted black;border-radius: 0.25em;box-sizing: border-box;margin-bottom: 0.5em;}#sk-container-id-5 div.sk-estimator:hover {background-color: #d4ebff;}#sk-container-id-5 div.sk-parallel-item::after {content: \"\";width: 100%;border-bottom: 1px solid gray;flex-grow: 1;}#sk-container-id-5 div.sk-label:hover label.sk-toggleable__label {background-color: #d4ebff;}#sk-container-id-5 div.sk-serial::before {content: \"\";position: absolute;border-left: 1px solid gray;box-sizing: border-box;top: 0;bottom: 0;left: 50%;z-index: 0;}#sk-container-id-5 div.sk-serial {display: flex;flex-direction: column;align-items: center;background-color: white;padding-right: 0.2em;padding-left: 0.2em;position: relative;}#sk-container-id-5 div.sk-item {position: relative;z-index: 1;}#sk-container-id-5 div.sk-parallel {display: flex;align-items: stretch;justify-content: center;background-color: white;position: relative;}#sk-container-id-5 div.sk-item::before, #sk-container-id-5 div.sk-parallel-item::before {content: \"\";position: absolute;border-left: 1px solid gray;box-sizing: border-box;top: 0;bottom: 0;left: 50%;z-index: -1;}#sk-container-id-5 div.sk-parallel-item {display: flex;flex-direction: column;z-index: 1;position: relative;background-color: white;}#sk-container-id-5 div.sk-parallel-item:first-child::after {align-self: flex-end;width: 50%;}#sk-container-id-5 div.sk-parallel-item:last-child::after {align-self: flex-start;width: 50%;}#sk-container-id-5 div.sk-parallel-item:only-child::after {width: 0;}#sk-container-id-5 div.sk-dashed-wrapped {border: 1px dashed gray;margin: 0 0.4em 0.5em 0.4em;box-sizing: border-box;padding-bottom: 0.4em;background-color: white;}#sk-container-id-5 div.sk-label label {font-family: monospace;font-weight: bold;display: inline-block;line-height: 1.2em;}#sk-container-id-5 div.sk-label-container {text-align: center;}#sk-container-id-5 div.sk-container {/* jupyter's `normalize.less` sets `[hidden] { display: none; }` but bootstrap.min.css set `[hidden] { display: none !important; }` so we also need the `!important` here to be able to override the default hidden behavior on the sphinx rendered scikit-learn.org. See: https://github.com/scikit-learn/scikit-learn/issues/21755 */display: inline-block !important;position: relative;}#sk-container-id-5 div.sk-text-repr-fallback {display: none;}</style><div id=\"sk-container-id-5\" class=\"sk-top-container\"><div class=\"sk-text-repr-fallback\"><pre>LinearRegression(n_jobs=-1)</pre><b>In a Jupyter environment, please rerun this cell to show the HTML representation or trust the notebook. <br />On GitHub, the HTML representation is unable to render, please try loading this page with nbviewer.org.</b></div><div class=\"sk-container\" hidden><div class=\"sk-item\"><div class=\"sk-estimator sk-toggleable\"><input class=\"sk-toggleable__control sk-hidden--visually\" id=\"sk-estimator-id-5\" type=\"checkbox\" checked><label for=\"sk-estimator-id-5\" class=\"sk-toggleable__label sk-toggleable__label-arrow\">LinearRegression</label><div class=\"sk-toggleable__content\"><pre>LinearRegression(n_jobs=-1)</pre></div></div></div></div></div>"
      ],
      "text/plain": [
       "LinearRegression(n_jobs=-1)"
      ]
     },
     "execution_count": 88,
     "metadata": {},
     "output_type": "execute_result"
    }
   ],
   "source": [
    "lr.fit(X, y)"
   ]
  },
  {
   "cell_type": "code",
   "execution_count": 89,
   "id": "874b5c1c",
   "metadata": {
    "ExecuteTime": {
     "end_time": "2023-01-26T02:38:52.310003Z",
     "start_time": "2023-01-26T02:38:52.299011Z"
    }
   },
   "outputs": [],
   "source": [
    "yhat = lr.predict(X_val)"
   ]
  },
  {
   "cell_type": "code",
   "execution_count": 93,
   "id": "4cec2083",
   "metadata": {
    "ExecuteTime": {
     "end_time": "2023-01-26T02:44:28.361196Z",
     "start_time": "2023-01-26T02:44:28.313250Z"
    }
   },
   "outputs": [
    {
     "data": {
      "text/plain": [
       "array([-1100.12646018, -1291.38759208, -1405.19207033, -1279.3020176 ,\n",
       "       -1400.14261499])"
      ]
     },
     "execution_count": 93,
     "metadata": {},
     "output_type": "execute_result"
    }
   ],
   "source": [
    "scores = cross_val_score(lr, X, y, scoring='neg_root_mean_squared_error', cv=5)\n",
    "#print(\"RMSE cross-validation score: %.2f\" % scores.mean())\n",
    "scores"
   ]
  },
  {
   "cell_type": "code",
   "execution_count": 92,
   "id": "deb7f4fd",
   "metadata": {
    "ExecuteTime": {
     "end_time": "2023-01-26T02:39:58.037530Z",
     "start_time": "2023-01-26T02:39:57.994660Z"
    }
   },
   "outputs": [
    {
     "name": "stdout",
     "output_type": "stream",
     "text": [
      "R2 cross-validation score: 0.23\n"
     ]
    }
   ],
   "source": [
    "scores = cross_val_score(lr, X, y, scoring='r2', cv=5)\n",
    "print(\"R2 cross-validation score: %.2f\" % scores.mean())"
   ]
  },
  {
   "cell_type": "code",
   "execution_count": null,
   "id": "5042784f",
   "metadata": {},
   "outputs": [],
   "source": []
  }
 ],
 "metadata": {
  "hide_input": false,
  "kernelspec": {
   "display_name": "Python 3 (ipykernel)",
   "language": "python",
   "name": "python3"
  },
  "language_info": {
   "codemirror_mode": {
    "name": "ipython",
    "version": 3
   },
   "file_extension": ".py",
   "mimetype": "text/x-python",
   "name": "python",
   "nbconvert_exporter": "python",
   "pygments_lexer": "ipython3",
   "version": "3.10.5"
  }
 },
 "nbformat": 4,
 "nbformat_minor": 5
}

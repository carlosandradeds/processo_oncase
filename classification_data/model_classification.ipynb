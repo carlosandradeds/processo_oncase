{
 "cells": [
  {
   "cell_type": "markdown",
   "id": "4c76dcb4",
   "metadata": {},
   "source": [
    "# 0.0 Imports"
   ]
  },
  {
   "cell_type": "code",
   "execution_count": 1,
   "id": "1306121d",
   "metadata": {
    "ExecuteTime": {
     "end_time": "2023-01-24T19:37:48.192264Z",
     "start_time": "2023-01-24T19:37:41.091275Z"
    }
   },
   "outputs": [],
   "source": [
    "import pandas      as pd\n",
    "import numpy       as np\n",
    "import xgboost     as xgb\n",
    "import seaborn     as sns\n",
    "import warnings\n",
    "\n",
    "from IPython.display import HTML\n",
    "\n",
    "from matplotlib              import pyplot          as plt\n",
    "from sklearn                 import model_selection as ms\n",
    "from sklearn                 import ensemble        as en\n",
    "\n",
    "from sklearn.metrics         import precision_recall_curve, precision_score, recall_score, f1_score\n",
    "from sklearn.model_selection import cross_val_score, RandomizedSearchCV\n",
    "\n",
    "\n",
    "from sklearn.linear_model    import LogisticRegression as lr\n",
    "\n",
    "from yellowbrick.classifier import ConfusionMatrix, class_prediction_error, ClassificationReport\n",
    "\n",
    "warnings.filterwarnings(\"ignore\")"
   ]
  },
  {
   "cell_type": "markdown",
   "id": "837358c8",
   "metadata": {},
   "source": [
    "# 0.2 Load Dataset"
   ]
  },
  {
   "cell_type": "code",
   "execution_count": 2,
   "id": "ccd4b441",
   "metadata": {
    "ExecuteTime": {
     "end_time": "2023-01-24T19:37:48.238188Z",
     "start_time": "2023-01-24T19:37:48.194268Z"
    }
   },
   "outputs": [],
   "source": [
    "train = pd.read_csv('classification_train.csv')\n",
    "test = pd.read_csv('classification_test.csv')"
   ]
  },
  {
   "cell_type": "code",
   "execution_count": 3,
   "id": "85ede72f",
   "metadata": {
    "ExecuteTime": {
     "end_time": "2023-01-24T19:37:48.269477Z",
     "start_time": "2023-01-24T19:37:48.242180Z"
    }
   },
   "outputs": [
    {
     "data": {
      "text/html": [
       "<div>\n",
       "<style scoped>\n",
       "    .dataframe tbody tr th:only-of-type {\n",
       "        vertical-align: middle;\n",
       "    }\n",
       "\n",
       "    .dataframe tbody tr th {\n",
       "        vertical-align: top;\n",
       "    }\n",
       "\n",
       "    .dataframe thead th {\n",
       "        text-align: right;\n",
       "    }\n",
       "</style>\n",
       "<table border=\"1\" class=\"dataframe\">\n",
       "  <thead>\n",
       "    <tr style=\"text-align: right;\">\n",
       "      <th></th>\n",
       "      <th>x1</th>\n",
       "      <th>x2</th>\n",
       "      <th>target</th>\n",
       "    </tr>\n",
       "  </thead>\n",
       "  <tbody>\n",
       "    <tr>\n",
       "      <th>0</th>\n",
       "      <td>1.934224</td>\n",
       "      <td>-0.111822</td>\n",
       "      <td>1</td>\n",
       "    </tr>\n",
       "    <tr>\n",
       "      <th>1</th>\n",
       "      <td>1.767383</td>\n",
       "      <td>-0.976402</td>\n",
       "      <td>1</td>\n",
       "    </tr>\n",
       "    <tr>\n",
       "      <th>2</th>\n",
       "      <td>0.937101</td>\n",
       "      <td>-0.085633</td>\n",
       "      <td>1</td>\n",
       "    </tr>\n",
       "    <tr>\n",
       "      <th>3</th>\n",
       "      <td>1.340732</td>\n",
       "      <td>0.166960</td>\n",
       "      <td>1</td>\n",
       "    </tr>\n",
       "    <tr>\n",
       "      <th>4</th>\n",
       "      <td>-0.199901</td>\n",
       "      <td>-0.155204</td>\n",
       "      <td>1</td>\n",
       "    </tr>\n",
       "  </tbody>\n",
       "</table>\n",
       "</div>"
      ],
      "text/plain": [
       "         x1        x2  target\n",
       "0  1.934224 -0.111822       1\n",
       "1  1.767383 -0.976402       1\n",
       "2  0.937101 -0.085633       1\n",
       "3  1.340732  0.166960       1\n",
       "4 -0.199901 -0.155204       1"
      ]
     },
     "execution_count": 3,
     "metadata": {},
     "output_type": "execute_result"
    }
   ],
   "source": [
    "train.head()"
   ]
  },
  {
   "cell_type": "code",
   "execution_count": 4,
   "id": "24cfe8ce",
   "metadata": {
    "ExecuteTime": {
     "end_time": "2023-01-24T19:37:48.284468Z",
     "start_time": "2023-01-24T19:37:48.272474Z"
    }
   },
   "outputs": [
    {
     "data": {
      "text/html": [
       "<div>\n",
       "<style scoped>\n",
       "    .dataframe tbody tr th:only-of-type {\n",
       "        vertical-align: middle;\n",
       "    }\n",
       "\n",
       "    .dataframe tbody tr th {\n",
       "        vertical-align: top;\n",
       "    }\n",
       "\n",
       "    .dataframe thead th {\n",
       "        text-align: right;\n",
       "    }\n",
       "</style>\n",
       "<table border=\"1\" class=\"dataframe\">\n",
       "  <thead>\n",
       "    <tr style=\"text-align: right;\">\n",
       "      <th></th>\n",
       "      <th>x1</th>\n",
       "      <th>x2</th>\n",
       "      <th>target</th>\n",
       "    </tr>\n",
       "  </thead>\n",
       "  <tbody>\n",
       "    <tr>\n",
       "      <th>0</th>\n",
       "      <td>1.114204</td>\n",
       "      <td>-0.434321</td>\n",
       "      <td>1</td>\n",
       "    </tr>\n",
       "    <tr>\n",
       "      <th>1</th>\n",
       "      <td>-1.238490</td>\n",
       "      <td>0.521390</td>\n",
       "      <td>0</td>\n",
       "    </tr>\n",
       "    <tr>\n",
       "      <th>2</th>\n",
       "      <td>-0.091781</td>\n",
       "      <td>-0.169471</td>\n",
       "      <td>1</td>\n",
       "    </tr>\n",
       "    <tr>\n",
       "      <th>3</th>\n",
       "      <td>0.298820</td>\n",
       "      <td>0.076368</td>\n",
       "      <td>0</td>\n",
       "    </tr>\n",
       "    <tr>\n",
       "      <th>4</th>\n",
       "      <td>-0.265779</td>\n",
       "      <td>0.479812</td>\n",
       "      <td>1</td>\n",
       "    </tr>\n",
       "  </tbody>\n",
       "</table>\n",
       "</div>"
      ],
      "text/plain": [
       "         x1        x2  target\n",
       "0  1.114204 -0.434321       1\n",
       "1 -1.238490  0.521390       0\n",
       "2 -0.091781 -0.169471       1\n",
       "3  0.298820  0.076368       0\n",
       "4 -0.265779  0.479812       1"
      ]
     },
     "execution_count": 4,
     "metadata": {},
     "output_type": "execute_result"
    }
   ],
   "source": [
    "test.head()"
   ]
  },
  {
   "cell_type": "markdown",
   "id": "bf842c60",
   "metadata": {},
   "source": [
    "# 1.0 Data Description"
   ]
  },
  {
   "cell_type": "code",
   "execution_count": 5,
   "id": "b7229dab",
   "metadata": {
    "ExecuteTime": {
     "end_time": "2023-01-24T19:37:48.299459Z",
     "start_time": "2023-01-24T19:37:48.286465Z"
    }
   },
   "outputs": [
    {
     "name": "stdout",
     "output_type": "stream",
     "text": [
      "Number of Columns: 3\n",
      "Number of Rows: 670\n"
     ]
    }
   ],
   "source": [
    "print('Number of Columns: {}'.format(train.shape[1]))\n",
    "print('Number of Rows: {}'.format(train.shape[0]))"
   ]
  },
  {
   "cell_type": "code",
   "execution_count": 6,
   "id": "6a3f972b",
   "metadata": {
    "ExecuteTime": {
     "end_time": "2023-01-24T19:37:48.315447Z",
     "start_time": "2023-01-24T19:37:48.302458Z"
    }
   },
   "outputs": [
    {
     "data": {
      "text/plain": [
       "x1        float64\n",
       "x2        float64\n",
       "target      int64\n",
       "dtype: object"
      ]
     },
     "execution_count": 6,
     "metadata": {},
     "output_type": "execute_result"
    }
   ],
   "source": [
    "train.dtypes"
   ]
  },
  {
   "cell_type": "code",
   "execution_count": 7,
   "id": "b3ed24fa",
   "metadata": {
    "ExecuteTime": {
     "end_time": "2023-01-24T19:37:48.331439Z",
     "start_time": "2023-01-24T19:37:48.317446Z"
    }
   },
   "outputs": [
    {
     "data": {
      "text/plain": [
       "1    339\n",
       "0    331\n",
       "Name: target, dtype: int64"
      ]
     },
     "execution_count": 7,
     "metadata": {},
     "output_type": "execute_result"
    }
   ],
   "source": [
    "train['target'].value_counts()"
   ]
  },
  {
   "cell_type": "markdown",
   "id": "54da4f95",
   "metadata": {},
   "source": [
    "# 2.0 Machine Learning Modelling"
   ]
  },
  {
   "cell_type": "markdown",
   "id": "a7e71971",
   "metadata": {},
   "source": [
    "## 2.1 Logistic Regression"
   ]
  },
  {
   "cell_type": "code",
   "execution_count": 36,
   "id": "ab6dd757",
   "metadata": {
    "ExecuteTime": {
     "end_time": "2023-01-24T20:14:20.273604Z",
     "start_time": "2023-01-24T20:14:20.255613Z"
    }
   },
   "outputs": [],
   "source": [
    "#model definition\n",
    "\n",
    "lgr = lr()"
   ]
  },
  {
   "cell_type": "markdown",
   "id": "18a874a0",
   "metadata": {},
   "source": [
    "### 2.1.1 Drop 'x1' Column"
   ]
  },
  {
   "cell_type": "code",
   "execution_count": 37,
   "id": "e9a09c71",
   "metadata": {
    "ExecuteTime": {
     "end_time": "2023-01-24T20:14:21.593644Z",
     "start_time": "2023-01-24T20:14:21.487640Z"
    },
    "scrolled": true
   },
   "outputs": [
    {
     "name": "stdout",
     "output_type": "stream",
     "text": [
      "Mean precision score: 0.7894122030332251\n",
      "Mean recall score: 0.7877085162423179\n",
      "Mean f1 score: 0.7877066526944645\n"
     ]
    }
   ],
   "source": [
    "#Data preparation\n",
    "X = train.drop(['target', 'x1'], axis=1)\n",
    "y = train['target'].copy()\n",
    "\n",
    "\n",
    "#cross valditation precision\n",
    "precision_mean_score = cross_val_score(lgr, X, y, scoring=\"precision\", cv = 5).mean()\n",
    "print('Mean precision score: {}'.format(precision_mean_score))\n",
    "\n",
    "#cross validation reccall\n",
    "recall_mean_score = cross_val_score(lgr, X, y, scoring=\"recall\", cv = 5).mean()\n",
    "print('Mean recall score: {}'.format(recall_mean_score))\n",
    "\n",
    "#cross validation f1-score\n",
    "f1_mean_score = cross_val_score(lgr, X, y, scoring=\"f1\", cv = 5).mean()\n",
    "print('Mean f1 score: {}'.format(f1_mean_score))"
   ]
  },
  {
   "cell_type": "markdown",
   "id": "88e406e4",
   "metadata": {},
   "source": [
    "### 2.1.2 Drop 'x2' Column"
   ]
  },
  {
   "cell_type": "code",
   "execution_count": 38,
   "id": "f230c964",
   "metadata": {
    "ExecuteTime": {
     "end_time": "2023-01-24T20:14:26.943952Z",
     "start_time": "2023-01-24T20:14:26.823365Z"
    }
   },
   "outputs": [
    {
     "name": "stdout",
     "output_type": "stream",
     "text": [
      "Mean precision score: 0.6828359948177677\n",
      "Mean recall score: 0.6875768217734854\n",
      "Mean f1 score: 0.6834808114607874\n"
     ]
    }
   ],
   "source": [
    "X = train.drop(['target', 'x2'], axis=1)\n",
    "y = train['target'].copy()\n",
    "\n",
    "\n",
    "#cross validation precision\n",
    "precision_mean_score = cross_val_score(lgr, X, y, scoring=\"precision\", cv = 5).mean()\n",
    "print('Mean precision score: {}'.format(precision_mean_score))\n",
    "\n",
    "#cross validation reccall\n",
    "recall_mean_score = cross_val_score(lgr, X, y, scoring=\"recall\", cv = 5).mean()\n",
    "print('Mean recall score: {}'.format(recall_mean_score))\n",
    "\n",
    "#cross validation f1\n",
    "f1_mean_score = cross_val_score(lgr, X, y, scoring=\"f1\", cv = 5).mean()\n",
    "print('Mean f1 score: {}'.format(f1_mean_score))"
   ]
  },
  {
   "cell_type": "markdown",
   "id": "dd22eca9",
   "metadata": {},
   "source": [
    "### 2.1.3 Full Columns"
   ]
  },
  {
   "cell_type": "code",
   "execution_count": 11,
   "id": "b8d91f58",
   "metadata": {
    "ExecuteTime": {
     "end_time": "2023-01-24T19:37:48.721442Z",
     "start_time": "2023-01-24T19:37:48.599292Z"
    }
   },
   "outputs": [
    {
     "name": "stdout",
     "output_type": "stream",
     "text": [
      "Mean precision score: 0.8451737769934511\n",
      "Mean recall score: 0.8377963125548729\n",
      "Mean f1 score: 0.8413796793971489\n"
     ]
    }
   ],
   "source": [
    "#Data preparation\n",
    "X = train.drop(['target'], axis=1)\n",
    "y = train['target'].copy()\n",
    "\n",
    "#cross validation precision\n",
    "precision_mean_score = cross_val_score(lgr, X, y, scoring=\"precision\", cv = 5).mean()\n",
    "print('Mean precision score: {}'.format(precision_mean_score))\n",
    "\n",
    "#cross validation reccall\n",
    "recall_mean_score = cross_val_score(lgr, X, y, scoring=\"recall\", cv = 5).mean()\n",
    "print('Mean recall score: {}'.format(recall_mean_score))\n",
    "\n",
    "#cross validation f1\n",
    "f1_mean_score = cross_val_score(lgr, X, y, scoring=\"f1\", cv = 5).mean()\n",
    "print('Mean f1 score: {}'.format(f1_mean_score))"
   ]
  },
  {
   "cell_type": "markdown",
   "id": "43f629ed",
   "metadata": {},
   "source": [
    "## 2.2 Random Forest"
   ]
  },
  {
   "cell_type": "code",
   "execution_count": 12,
   "id": "62fe7944",
   "metadata": {
    "ExecuteTime": {
     "end_time": "2023-01-24T19:37:48.736438Z",
     "start_time": "2023-01-24T19:37:48.724445Z"
    }
   },
   "outputs": [],
   "source": [
    "# model definition\n",
    "rf = en.RandomForestClassifier( n_jobs=-1, random_state=42 ) "
   ]
  },
  {
   "cell_type": "markdown",
   "id": "4db8ceae",
   "metadata": {},
   "source": [
    "### 2.2.1 Drop 'x1' Column"
   ]
  },
  {
   "cell_type": "code",
   "execution_count": 13,
   "id": "891bc8f8",
   "metadata": {
    "ExecuteTime": {
     "end_time": "2023-01-24T19:37:52.728291Z",
     "start_time": "2023-01-24T19:37:48.738437Z"
    }
   },
   "outputs": [
    {
     "name": "stdout",
     "output_type": "stream",
     "text": [
      "Mean precision score: 0.7279894440460097\n",
      "Mean recall score: 0.7433274802458297\n",
      "Mean f1 score: 0.734803678759451\n"
     ]
    }
   ],
   "source": [
    "#Data Preparation\n",
    "X = train.drop(['target', 'x1'], axis=1)\n",
    "y = train['target'].copy()\n",
    "\n",
    "\n",
    "#cross validation precision\n",
    "precision_mean_score = cross_val_score(rf, X, y, scoring=\"precision\", cv = 5).mean()\n",
    "print('Mean precision score: {}'.format(precision_mean_score))\n",
    "\n",
    "#cross validation recall\n",
    "recall_mean_score = cross_val_score(rf, X, y, scoring=\"recall\", cv = 5).mean()\n",
    "print('Mean recall score: {}'.format(recall_mean_score))\n",
    "\n",
    "#cross validation f1 score\n",
    "f1_mean_score = cross_val_score(rf, X, y, scoring=\"f1\", cv = 5).mean()\n",
    "print('Mean f1 score: {}'.format(f1_mean_score))"
   ]
  },
  {
   "cell_type": "markdown",
   "id": "5f1fd24a",
   "metadata": {},
   "source": [
    "### 2.2.2 Drop 'x2' Column"
   ]
  },
  {
   "cell_type": "code",
   "execution_count": 14,
   "id": "5c1ac084",
   "metadata": {
    "ExecuteTime": {
     "end_time": "2023-01-24T19:37:54.615615Z",
     "start_time": "2023-01-24T19:37:52.730290Z"
    }
   },
   "outputs": [
    {
     "name": "stdout",
     "output_type": "stream",
     "text": [
      "Mean precision score: 0.6493598319668723\n",
      "Mean recall score: 0.6284899034240562\n",
      "Mean f1 score: 0.6377527363786906\n"
     ]
    }
   ],
   "source": [
    "#data preparation\n",
    "X = train.drop(['target', 'x2'], axis=1)\n",
    "y = train['target'].copy()\n",
    "\n",
    "\n",
    "#cross validation precision\n",
    "precision_mean_score = cross_val_score(rf, X, y, scoring=\"precision\", cv = 5).mean()\n",
    "print('Mean precision score: {}'.format(precision_mean_score))\n",
    "\n",
    "#cross validation recall\n",
    "recall_mean_score = cross_val_score(rf, X, y, scoring=\"recall\", cv = 5).mean()\n",
    "print('Mean recall score: {}'.format(recall_mean_score))\n",
    "\n",
    "#cross validation f1 score\n",
    "f1_mean_score = cross_val_score(rf, X, y, scoring=\"f1\", cv = 5).mean()\n",
    "print('Mean f1 score: {}'.format(f1_mean_score))"
   ]
  },
  {
   "cell_type": "markdown",
   "id": "982af1fa",
   "metadata": {},
   "source": [
    "### 2.1.3 Full Columns"
   ]
  },
  {
   "cell_type": "code",
   "execution_count": 15,
   "id": "169ee2c2",
   "metadata": {
    "ExecuteTime": {
     "end_time": "2023-01-24T19:37:56.460326Z",
     "start_time": "2023-01-24T19:37:54.618612Z"
    }
   },
   "outputs": [
    {
     "name": "stdout",
     "output_type": "stream",
     "text": [
      "Mean precision score: 0.8817070525982309\n",
      "Mean recall score: 0.8790605794556627\n",
      "Mean f1 score: 0.8800569034174661\n"
     ]
    }
   ],
   "source": [
    "#data preparation\n",
    "X = train.drop(['target'], axis=1)\n",
    "y = train['target'].copy()\n",
    "\n",
    "\n",
    "#cross validation precision\n",
    "precision_mean_score = cross_val_score(rf, X, y, scoring=\"precision\", cv = 5).mean()\n",
    "print('Mean precision score: {}'.format(precision_mean_score))\n",
    "\n",
    "#cross validation recall\n",
    "recall_mean_score = cross_val_score(rf, X, y, scoring=\"recall\", cv = 5).mean()\n",
    "print('Mean recall score: {}'.format(recall_mean_score))\n",
    "\n",
    "#cross validation f1 score\n",
    "f1_mean_score = cross_val_score(rf, X, y, scoring=\"f1\", cv = 5).mean()\n",
    "print('Mean f1 score: {}'.format(f1_mean_score))"
   ]
  },
  {
   "cell_type": "markdown",
   "id": "4f4d5458",
   "metadata": {},
   "source": [
    "## 2.3 XGBoost"
   ]
  },
  {
   "cell_type": "code",
   "execution_count": 16,
   "id": "945c934b",
   "metadata": {
    "ExecuteTime": {
     "end_time": "2023-01-24T19:37:56.476316Z",
     "start_time": "2023-01-24T19:37:56.465324Z"
    }
   },
   "outputs": [],
   "source": [
    "#Model Definition\n",
    "model_xgb = xgb.XGBClassifier(objective='binary:logistic', random_state=42, n_jobs=-1)"
   ]
  },
  {
   "cell_type": "markdown",
   "id": "d2c11ea7",
   "metadata": {},
   "source": [
    "### 2.3.1 Drop 'x1' Column"
   ]
  },
  {
   "cell_type": "code",
   "execution_count": 17,
   "id": "23a84f55",
   "metadata": {
    "ExecuteTime": {
     "end_time": "2023-01-24T19:37:57.539404Z",
     "start_time": "2023-01-24T19:37:56.478316Z"
    }
   },
   "outputs": [
    {
     "name": "stdout",
     "output_type": "stream",
     "text": [
      "Mean precision score: 0.751362646787387\n",
      "Mean recall score: 0.7758560140474099\n",
      "Mean f1 score: 0.7623063606026922\n"
     ]
    }
   ],
   "source": [
    "#data preparation\n",
    "X = train.drop(['target', 'x1'], axis=1)\n",
    "y = train['target'].copy()\n",
    "\n",
    "\n",
    "\n",
    "precision_mean_score = cross_val_score(model_xgb, X, y, scoring=\"precision\", cv = 5).mean()\n",
    "print('Mean precision score: {}'.format(precision_mean_score))\n",
    "\n",
    "\n",
    "recall_mean_score = cross_val_score(model_xgb, X, y, scoring=\"recall\", cv = 5).mean()\n",
    "print('Mean recall score: {}'.format(recall_mean_score))\n",
    "\n",
    "\n",
    "f1_mean_score = cross_val_score(model_xgb, X, y, scoring=\"f1\", cv = 5).mean()\n",
    "print('Mean f1 score: {}'.format(f1_mean_score))"
   ]
  },
  {
   "cell_type": "markdown",
   "id": "01564534",
   "metadata": {},
   "source": [
    "### 2.2.2 Drop 'x2' Column"
   ]
  },
  {
   "cell_type": "code",
   "execution_count": 18,
   "id": "0366e126",
   "metadata": {
    "ExecuteTime": {
     "end_time": "2023-01-24T19:37:57.555395Z",
     "start_time": "2023-01-24T19:37:57.541404Z"
    }
   },
   "outputs": [],
   "source": [
    "X = train.drop(['target', 'x2'], axis=1)\n",
    "y = train['target'].copy()"
   ]
  },
  {
   "cell_type": "code",
   "execution_count": 19,
   "id": "7d08b82a",
   "metadata": {
    "ExecuteTime": {
     "end_time": "2023-01-24T19:37:58.659173Z",
     "start_time": "2023-01-24T19:37:57.558394Z"
    }
   },
   "outputs": [
    {
     "name": "stdout",
     "output_type": "stream",
     "text": [
      "Mean precision score: 0.6597248067743506\n",
      "Mean recall score: 0.6343283582089552\n",
      "Mean f1 score: 0.6455114603312921\n"
     ]
    }
   ],
   "source": [
    "precision_mean_score = cross_val_score(model_xgb, X, y, scoring=\"precision\", cv = 5).mean()\n",
    "print('Mean precision score: {}'.format(precision_mean_score))\n",
    "\n",
    "\n",
    "recall_mean_score = cross_val_score(model_xgb, X, y, scoring=\"recall\", cv = 5).mean()\n",
    "print('Mean recall score: {}'.format(recall_mean_score))\n",
    "\n",
    "\n",
    "f1_mean_score = cross_val_score(model_xgb, X, y, scoring=\"f1\", cv = 5).mean()\n",
    "print('Mean f1 score: {}'.format(f1_mean_score))"
   ]
  },
  {
   "cell_type": "markdown",
   "id": "61cfa96c",
   "metadata": {},
   "source": [
    "### 2.1.3 Full Columns"
   ]
  },
  {
   "cell_type": "code",
   "execution_count": 20,
   "id": "fa3f1b82",
   "metadata": {
    "ExecuteTime": {
     "end_time": "2023-01-24T19:37:58.675162Z",
     "start_time": "2023-01-24T19:37:58.662170Z"
    }
   },
   "outputs": [],
   "source": [
    "X = train.drop(['target'], axis=1)\n",
    "y = train['target'].copy()"
   ]
  },
  {
   "cell_type": "code",
   "execution_count": 21,
   "id": "4780718a",
   "metadata": {
    "ExecuteTime": {
     "end_time": "2023-01-24T19:37:59.746386Z",
     "start_time": "2023-01-24T19:37:58.678161Z"
    }
   },
   "outputs": [
    {
     "name": "stdout",
     "output_type": "stream",
     "text": [
      "Mean precision score: 0.8660127597844062\n",
      "Mean recall score: 0.8585162423178228\n",
      "Mean f1 score: 0.861397547866618\n"
     ]
    }
   ],
   "source": [
    "precision_mean_score = cross_val_score(model_xgb, X, y, scoring=\"precision\", cv = 5).mean()\n",
    "print('Mean precision score: {}'.format(precision_mean_score))\n",
    "\n",
    "\n",
    "recall_mean_score = cross_val_score(model_xgb, X, y, scoring=\"recall\", cv = 5).mean()\n",
    "print('Mean recall score: {}'.format(recall_mean_score))\n",
    "\n",
    "\n",
    "f1_mean_score = cross_val_score(model_xgb, X, y, scoring=\"f1\", cv = 5).mean()\n",
    "print('Mean f1 score: {}'.format(f1_mean_score))"
   ]
  },
  {
   "cell_type": "markdown",
   "id": "312a8833",
   "metadata": {},
   "source": [
    "# 3.0 Feature Importance"
   ]
  },
  {
   "cell_type": "code",
   "execution_count": 23,
   "id": "7b71deb4",
   "metadata": {
    "ExecuteTime": {
     "end_time": "2023-01-24T19:38:34.206741Z",
     "start_time": "2023-01-24T19:38:33.878637Z"
    }
   },
   "outputs": [
    {
     "data": {
      "text/html": [
       "<style>#sk-container-id-1 {color: black;background-color: white;}#sk-container-id-1 pre{padding: 0;}#sk-container-id-1 div.sk-toggleable {background-color: white;}#sk-container-id-1 label.sk-toggleable__label {cursor: pointer;display: block;width: 100%;margin-bottom: 0;padding: 0.3em;box-sizing: border-box;text-align: center;}#sk-container-id-1 label.sk-toggleable__label-arrow:before {content: \"▸\";float: left;margin-right: 0.25em;color: #696969;}#sk-container-id-1 label.sk-toggleable__label-arrow:hover:before {color: black;}#sk-container-id-1 div.sk-estimator:hover label.sk-toggleable__label-arrow:before {color: black;}#sk-container-id-1 div.sk-toggleable__content {max-height: 0;max-width: 0;overflow: hidden;text-align: left;background-color: #f0f8ff;}#sk-container-id-1 div.sk-toggleable__content pre {margin: 0.2em;color: black;border-radius: 0.25em;background-color: #f0f8ff;}#sk-container-id-1 input.sk-toggleable__control:checked~div.sk-toggleable__content {max-height: 200px;max-width: 100%;overflow: auto;}#sk-container-id-1 input.sk-toggleable__control:checked~label.sk-toggleable__label-arrow:before {content: \"▾\";}#sk-container-id-1 div.sk-estimator input.sk-toggleable__control:checked~label.sk-toggleable__label {background-color: #d4ebff;}#sk-container-id-1 div.sk-label input.sk-toggleable__control:checked~label.sk-toggleable__label {background-color: #d4ebff;}#sk-container-id-1 input.sk-hidden--visually {border: 0;clip: rect(1px 1px 1px 1px);clip: rect(1px, 1px, 1px, 1px);height: 1px;margin: -1px;overflow: hidden;padding: 0;position: absolute;width: 1px;}#sk-container-id-1 div.sk-estimator {font-family: monospace;background-color: #f0f8ff;border: 1px dotted black;border-radius: 0.25em;box-sizing: border-box;margin-bottom: 0.5em;}#sk-container-id-1 div.sk-estimator:hover {background-color: #d4ebff;}#sk-container-id-1 div.sk-parallel-item::after {content: \"\";width: 100%;border-bottom: 1px solid gray;flex-grow: 1;}#sk-container-id-1 div.sk-label:hover label.sk-toggleable__label {background-color: #d4ebff;}#sk-container-id-1 div.sk-serial::before {content: \"\";position: absolute;border-left: 1px solid gray;box-sizing: border-box;top: 0;bottom: 0;left: 50%;z-index: 0;}#sk-container-id-1 div.sk-serial {display: flex;flex-direction: column;align-items: center;background-color: white;padding-right: 0.2em;padding-left: 0.2em;position: relative;}#sk-container-id-1 div.sk-item {position: relative;z-index: 1;}#sk-container-id-1 div.sk-parallel {display: flex;align-items: stretch;justify-content: center;background-color: white;position: relative;}#sk-container-id-1 div.sk-item::before, #sk-container-id-1 div.sk-parallel-item::before {content: \"\";position: absolute;border-left: 1px solid gray;box-sizing: border-box;top: 0;bottom: 0;left: 50%;z-index: -1;}#sk-container-id-1 div.sk-parallel-item {display: flex;flex-direction: column;z-index: 1;position: relative;background-color: white;}#sk-container-id-1 div.sk-parallel-item:first-child::after {align-self: flex-end;width: 50%;}#sk-container-id-1 div.sk-parallel-item:last-child::after {align-self: flex-start;width: 50%;}#sk-container-id-1 div.sk-parallel-item:only-child::after {width: 0;}#sk-container-id-1 div.sk-dashed-wrapped {border: 1px dashed gray;margin: 0 0.4em 0.5em 0.4em;box-sizing: border-box;padding-bottom: 0.4em;background-color: white;}#sk-container-id-1 div.sk-label label {font-family: monospace;font-weight: bold;display: inline-block;line-height: 1.2em;}#sk-container-id-1 div.sk-label-container {text-align: center;}#sk-container-id-1 div.sk-container {/* jupyter's `normalize.less` sets `[hidden] { display: none; }` but bootstrap.min.css set `[hidden] { display: none !important; }` so we also need the `!important` here to be able to override the default hidden behavior on the sphinx rendered scikit-learn.org. See: https://github.com/scikit-learn/scikit-learn/issues/21755 */display: inline-block !important;position: relative;}#sk-container-id-1 div.sk-text-repr-fallback {display: none;}</style><div id=\"sk-container-id-1\" class=\"sk-top-container\"><div class=\"sk-text-repr-fallback\"><pre>ExtraTreesClassifier(n_estimators=250, n_jobs=-1, random_state=0)</pre><b>In a Jupyter environment, please rerun this cell to show the HTML representation or trust the notebook. <br />On GitHub, the HTML representation is unable to render, please try loading this page with nbviewer.org.</b></div><div class=\"sk-container\" hidden><div class=\"sk-item\"><div class=\"sk-estimator sk-toggleable\"><input class=\"sk-toggleable__control sk-hidden--visually\" id=\"sk-estimator-id-1\" type=\"checkbox\" checked><label for=\"sk-estimator-id-1\" class=\"sk-toggleable__label sk-toggleable__label-arrow\">ExtraTreesClassifier</label><div class=\"sk-toggleable__content\"><pre>ExtraTreesClassifier(n_estimators=250, n_jobs=-1, random_state=0)</pre></div></div></div></div></div>"
      ],
      "text/plain": [
       "ExtraTreesClassifier(n_estimators=250, n_jobs=-1, random_state=0)"
      ]
     },
     "execution_count": 23,
     "metadata": {},
     "output_type": "execute_result"
    }
   ],
   "source": [
    "# model definition\n",
    "forest = en.ExtraTreesClassifier( n_estimators=250, random_state=0, n_jobs=-1 )\n",
    "\n",
    "# data preparation\n",
    "x_train_n = train.drop( ['target'], axis=1 )\n",
    "y_train_n = train['target'].copy()\n",
    "forest.fit( x_train_n, y_train_n )"
   ]
  },
  {
   "cell_type": "code",
   "execution_count": 24,
   "id": "9f4e6d19",
   "metadata": {
    "ExecuteTime": {
     "end_time": "2023-01-24T19:38:36.812140Z",
     "start_time": "2023-01-24T19:38:36.525766Z"
    }
   },
   "outputs": [
    {
     "name": "stdout",
     "output_type": "stream",
     "text": [
      "Feature ranking:\n",
      "  feature  importance\n",
      "0      x2    0.568302\n",
      "0      x1    0.431698\n"
     ]
    },
    {
     "data": {
      "image/png": "[encoded data removed]",
      "text/plain": [
       "<Figure size 432x288 with 1 Axes>"
      ]
     },
     "metadata": {
      "needs_background": "light"
     },
     "output_type": "display_data"
    }
   ],
   "source": [
    "importances = forest.feature_importances_\n",
    "std = np.std([tree.feature_importances_ for tree in forest.estimators_], axis=0)\n",
    "indices = np.argsort(importances)[::-1]\n",
    "\n",
    "# Print the feature ranking\n",
    "print(\"Feature ranking:\")\n",
    "df = pd.DataFrame()\n",
    "for i, j in zip( x_train_n, forest.feature_importances_ ):\n",
    "    aux = pd.DataFrame( {'feature': i, 'importance': j}, index=[0] )\n",
    "    df = pd.concat( [df, aux], axis=0 )\n",
    "    \n",
    "print( df.sort_values( 'importance', ascending=False ) )\n",
    "\n",
    "# Plot the impurity-based feature importances of the forest\n",
    "plt.figure()\n",
    "plt.title(\"Feature importances\")\n",
    "plt.bar(range(x_train_n.shape[1]), importances[indices], color=\"r\", yerr=std[indices], align=\"center\")\n",
    "plt.xticks(range(x_train_n.shape[1]), indices)\n",
    "plt.xlim([-1, x_train_n.shape[1]])\n",
    "plt.show()"
   ]
  },
  {
   "cell_type": "markdown",
   "id": "3a251582",
   "metadata": {},
   "source": [
    "# 4.0 Final Model"
   ]
  },
  {
   "cell_type": "code",
   "execution_count": 25,
   "id": "54fbef9f",
   "metadata": {
    "ExecuteTime": {
     "end_time": "2023-01-24T19:38:37.466587Z",
     "start_time": "2023-01-24T19:38:37.453597Z"
    }
   },
   "outputs": [],
   "source": [
    "x_train = train.drop('target', axis=1)\n",
    "y_train = train['target'].copy()\n",
    "\n",
    "x_test = test.drop('target', axis=1)\n",
    "y_validation = test['target'].copy()"
   ]
  },
  {
   "cell_type": "code",
   "execution_count": 26,
   "id": "e76b970c",
   "metadata": {
    "ExecuteTime": {
     "end_time": "2023-01-24T19:42:28.989569Z",
     "start_time": "2023-01-24T19:38:37.734593Z"
    }
   },
   "outputs": [
    {
     "name": "stdout",
     "output_type": "stream",
     "text": [
      "Fitting 5 folds for each of 100 candidates, totalling 500 fits\n"
     ]
    },
    {
     "data": {
      "text/html": [
       "<style>#sk-container-id-2 {color: black;background-color: white;}#sk-container-id-2 pre{padding: 0;}#sk-container-id-2 div.sk-toggleable {background-color: white;}#sk-container-id-2 label.sk-toggleable__label {cursor: pointer;display: block;width: 100%;margin-bottom: 0;padding: 0.3em;box-sizing: border-box;text-align: center;}#sk-container-id-2 label.sk-toggleable__label-arrow:before {content: \"▸\";float: left;margin-right: 0.25em;color: #696969;}#sk-container-id-2 label.sk-toggleable__label-arrow:hover:before {color: black;}#sk-container-id-2 div.sk-estimator:hover label.sk-toggleable__label-arrow:before {color: black;}#sk-container-id-2 div.sk-toggleable__content {max-height: 0;max-width: 0;overflow: hidden;text-align: left;background-color: #f0f8ff;}#sk-container-id-2 div.sk-toggleable__content pre {margin: 0.2em;color: black;border-radius: 0.25em;background-color: #f0f8ff;}#sk-container-id-2 input.sk-toggleable__control:checked~div.sk-toggleable__content {max-height: 200px;max-width: 100%;overflow: auto;}#sk-container-id-2 input.sk-toggleable__control:checked~label.sk-toggleable__label-arrow:before {content: \"▾\";}#sk-container-id-2 div.sk-estimator input.sk-toggleable__control:checked~label.sk-toggleable__label {background-color: #d4ebff;}#sk-container-id-2 div.sk-label input.sk-toggleable__control:checked~label.sk-toggleable__label {background-color: #d4ebff;}#sk-container-id-2 input.sk-hidden--visually {border: 0;clip: rect(1px 1px 1px 1px);clip: rect(1px, 1px, 1px, 1px);height: 1px;margin: -1px;overflow: hidden;padding: 0;position: absolute;width: 1px;}#sk-container-id-2 div.sk-estimator {font-family: monospace;background-color: #f0f8ff;border: 1px dotted black;border-radius: 0.25em;box-sizing: border-box;margin-bottom: 0.5em;}#sk-container-id-2 div.sk-estimator:hover {background-color: #d4ebff;}#sk-container-id-2 div.sk-parallel-item::after {content: \"\";width: 100%;border-bottom: 1px solid gray;flex-grow: 1;}#sk-container-id-2 div.sk-label:hover label.sk-toggleable__label {background-color: #d4ebff;}#sk-container-id-2 div.sk-serial::before {content: \"\";position: absolute;border-left: 1px solid gray;box-sizing: border-box;top: 0;bottom: 0;left: 50%;z-index: 0;}#sk-container-id-2 div.sk-serial {display: flex;flex-direction: column;align-items: center;background-color: white;padding-right: 0.2em;padding-left: 0.2em;position: relative;}#sk-container-id-2 div.sk-item {position: relative;z-index: 1;}#sk-container-id-2 div.sk-parallel {display: flex;align-items: stretch;justify-content: center;background-color: white;position: relative;}#sk-container-id-2 div.sk-item::before, #sk-container-id-2 div.sk-parallel-item::before {content: \"\";position: absolute;border-left: 1px solid gray;box-sizing: border-box;top: 0;bottom: 0;left: 50%;z-index: -1;}#sk-container-id-2 div.sk-parallel-item {display: flex;flex-direction: column;z-index: 1;position: relative;background-color: white;}#sk-container-id-2 div.sk-parallel-item:first-child::after {align-self: flex-end;width: 50%;}#sk-container-id-2 div.sk-parallel-item:last-child::after {align-self: flex-start;width: 50%;}#sk-container-id-2 div.sk-parallel-item:only-child::after {width: 0;}#sk-container-id-2 div.sk-dashed-wrapped {border: 1px dashed gray;margin: 0 0.4em 0.5em 0.4em;box-sizing: border-box;padding-bottom: 0.4em;background-color: white;}#sk-container-id-2 div.sk-label label {font-family: monospace;font-weight: bold;display: inline-block;line-height: 1.2em;}#sk-container-id-2 div.sk-label-container {text-align: center;}#sk-container-id-2 div.sk-container {/* jupyter's `normalize.less` sets `[hidden] { display: none; }` but bootstrap.min.css set `[hidden] { display: none !important; }` so we also need the `!important` here to be able to override the default hidden behavior on the sphinx rendered scikit-learn.org. See: https://github.com/scikit-learn/scikit-learn/issues/21755 */display: inline-block !important;position: relative;}#sk-container-id-2 div.sk-text-repr-fallback {display: none;}</style><div id=\"sk-container-id-2\" class=\"sk-top-container\"><div class=\"sk-text-repr-fallback\"><pre>RandomizedSearchCV(cv=5, estimator=RandomForestClassifier(), n_iter=100,\n",
       "                   n_jobs=-1,\n",
       "                   param_distributions={&#x27;bootstrap&#x27;: [True, False],\n",
       "                                        &#x27;max_depth&#x27;: [10, 20, 30, 40, 50, 60,\n",
       "                                                      70, 80, 90, 100, 110,\n",
       "                                                      None],\n",
       "                                        &#x27;max_features&#x27;: [&#x27;auto&#x27;, &#x27;sqrt&#x27;],\n",
       "                                        &#x27;min_samples_leaf&#x27;: [1, 2, 4],\n",
       "                                        &#x27;min_samples_split&#x27;: [2, 5, 10],\n",
       "                                        &#x27;n_estimators&#x27;: [200, 400, 600, 800,\n",
       "                                                         1000, 1200, 1400, 1600,\n",
       "                                                         1800, 2000]},\n",
       "                   random_state=42, verbose=2)</pre><b>In a Jupyter environment, please rerun this cell to show the HTML representation or trust the notebook. <br />On GitHub, the HTML representation is unable to render, please try loading this page with nbviewer.org.</b></div><div class=\"sk-container\" hidden><div class=\"sk-item sk-dashed-wrapped\"><div class=\"sk-label-container\"><div class=\"sk-label sk-toggleable\"><input class=\"sk-toggleable__control sk-hidden--visually\" id=\"sk-estimator-id-2\" type=\"checkbox\" ><label for=\"sk-estimator-id-2\" class=\"sk-toggleable__label sk-toggleable__label-arrow\">RandomizedSearchCV</label><div class=\"sk-toggleable__content\"><pre>RandomizedSearchCV(cv=5, estimator=RandomForestClassifier(), n_iter=100,\n",
       "                   n_jobs=-1,\n",
       "                   param_distributions={&#x27;bootstrap&#x27;: [True, False],\n",
       "                                        &#x27;max_depth&#x27;: [10, 20, 30, 40, 50, 60,\n",
       "                                                      70, 80, 90, 100, 110,\n",
       "                                                      None],\n",
       "                                        &#x27;max_features&#x27;: [&#x27;auto&#x27;, &#x27;sqrt&#x27;],\n",
       "                                        &#x27;min_samples_leaf&#x27;: [1, 2, 4],\n",
       "                                        &#x27;min_samples_split&#x27;: [2, 5, 10],\n",
       "                                        &#x27;n_estimators&#x27;: [200, 400, 600, 800,\n",
       "                                                         1000, 1200, 1400, 1600,\n",
       "                                                         1800, 2000]},\n",
       "                   random_state=42, verbose=2)</pre></div></div></div><div class=\"sk-parallel\"><div class=\"sk-parallel-item\"><div class=\"sk-item\"><div class=\"sk-label-container\"><div class=\"sk-label sk-toggleable\"><input class=\"sk-toggleable__control sk-hidden--visually\" id=\"sk-estimator-id-3\" type=\"checkbox\" ><label for=\"sk-estimator-id-3\" class=\"sk-toggleable__label sk-toggleable__label-arrow\">estimator: RandomForestClassifier</label><div class=\"sk-toggleable__content\"><pre>RandomForestClassifier()</pre></div></div></div><div class=\"sk-serial\"><div class=\"sk-item\"><div class=\"sk-estimator sk-toggleable\"><input class=\"sk-toggleable__control sk-hidden--visually\" id=\"sk-estimator-id-4\" type=\"checkbox\" ><label for=\"sk-estimator-id-4\" class=\"sk-toggleable__label sk-toggleable__label-arrow\">RandomForestClassifier</label><div class=\"sk-toggleable__content\"><pre>RandomForestClassifier()</pre></div></div></div></div></div></div></div></div></div></div>"
      ],
      "text/plain": [
       "RandomizedSearchCV(cv=5, estimator=RandomForestClassifier(), n_iter=100,\n",
       "                   n_jobs=-1,\n",
       "                   param_distributions={'bootstrap': [True, False],\n",
       "                                        'max_depth': [10, 20, 30, 40, 50, 60,\n",
       "                                                      70, 80, 90, 100, 110,\n",
       "                                                      None],\n",
       "                                        'max_features': ['auto', 'sqrt'],\n",
       "                                        'min_samples_leaf': [1, 2, 4],\n",
       "                                        'min_samples_split': [2, 5, 10],\n",
       "                                        'n_estimators': [200, 400, 600, 800,\n",
       "                                                         1000, 1200, 1400, 1600,\n",
       "                                                         1800, 2000]},\n",
       "                   random_state=42, verbose=2)"
      ]
     },
     "execution_count": 26,
     "metadata": {},
     "output_type": "execute_result"
    }
   ],
   "source": [
    "# Number of trees in random forest\n",
    "n_estimators = [int(x) for x in np.linspace(start = 200, stop = 2000, num = 10)]\n",
    "# Number of features to consider at every split\n",
    "max_features = ['auto', 'sqrt']\n",
    "# Maximum number of levels in tree\n",
    "max_depth = [int(x) for x in np.linspace(10, 110, num = 11)]\n",
    "max_depth.append(None)\n",
    "# Minimum number of samples required to split a node\n",
    "min_samples_split = [2, 5, 10]\n",
    "# Minimum number of samples required at each leaf node\n",
    "min_samples_leaf = [1, 2, 4]\n",
    "# Method of selecting samples for training each tree\n",
    "bootstrap = [True, False]\n",
    "# Create the random grid\n",
    "random_grid = {'n_estimators': n_estimators,\n",
    "               'max_features': max_features,\n",
    "               'max_depth': max_depth,\n",
    "               'min_samples_split': min_samples_split,\n",
    "               'min_samples_leaf': min_samples_leaf,\n",
    "               'bootstrap': bootstrap}\n",
    "\n",
    "\n",
    "\n",
    "\n",
    "# First create the base model to tune\n",
    "rf = en.RandomForestClassifier()\n",
    "# Random search of parameters, using 5 fold cross validation, \n",
    "# search across 100 different combinations, and use all available cores\n",
    "rf_random = RandomizedSearchCV(estimator = rf, param_distributions = random_grid, n_iter = 100, cv = 5, verbose=2, random_state=42, n_jobs = -1)\n",
    "# Fit the random search model\n",
    "rf_random.fit(x_train, y_train)"
   ]
  },
  {
   "cell_type": "code",
   "execution_count": 27,
   "id": "ac75c1ca",
   "metadata": {
    "ExecuteTime": {
     "end_time": "2023-01-24T19:42:29.005560Z",
     "start_time": "2023-01-24T19:42:28.992568Z"
    }
   },
   "outputs": [
    {
     "data": {
      "text/plain": [
       "{'n_estimators': 1600,\n",
       " 'min_samples_split': 2,\n",
       " 'min_samples_leaf': 4,\n",
       " 'max_features': 'sqrt',\n",
       " 'max_depth': 10,\n",
       " 'bootstrap': True}"
      ]
     },
     "execution_count": 27,
     "metadata": {},
     "output_type": "execute_result"
    }
   ],
   "source": [
    "rf_random.best_params_"
   ]
  },
  {
   "cell_type": "code",
   "execution_count": 28,
   "id": "66fafa08",
   "metadata": {
    "ExecuteTime": {
     "end_time": "2023-01-24T19:42:31.715393Z",
     "start_time": "2023-01-24T19:42:29.008558Z"
    }
   },
   "outputs": [],
   "source": [
    "#model definition\n",
    "rf = en.RandomForestClassifier( n_jobs=-1, \n",
    "                                random_state=42, \n",
    "                                n_estimators= 1600,\n",
    "                                min_samples_split= 2,\n",
    "                                min_samples_leaf= 4,\n",
    "                                max_features= 'sqrt',\n",
    "                                max_depth= 10,\n",
    "                                bootstrap= True) \n",
    "\n",
    "#model training\n",
    "rf.fit(x_train, y_train)\n",
    "\n",
    "\n",
    "# prediction\n",
    "y_test = rf.predict( x_test )"
   ]
  },
  {
   "cell_type": "code",
   "execution_count": 29,
   "id": "851528c2",
   "metadata": {
    "ExecuteTime": {
     "end_time": "2023-01-24T19:42:31.731080Z",
     "start_time": "2023-01-24T19:42:31.719088Z"
    }
   },
   "outputs": [
    {
     "name": "stdout",
     "output_type": "stream",
     "text": [
      "Precision : 0.8650306748466258\n",
      "Recall : 0.8757763975155279\n",
      "F1 Score : 0.8703703703703703\n"
     ]
    }
   ],
   "source": [
    "print('Precision : {}'.format(precision_score(y_validation, y_test)))\n",
    "\n",
    "print('Recall : {}'.format(recall_score(y_validation, y_test)))\n",
    "\n",
    "print('F1 Score : {}'.format(f1_score(y_validation, y_test)))"
   ]
  },
  {
   "cell_type": "code",
   "execution_count": 30,
   "id": "68006ac3",
   "metadata": {
    "ExecuteTime": {
     "end_time": "2023-01-24T19:42:31.747072Z",
     "start_time": "2023-01-24T19:42:31.733078Z"
    }
   },
   "outputs": [],
   "source": [
    "classes = [0, 1]"
   ]
  },
  {
   "cell_type": "code",
   "execution_count": 32,
   "id": "ab4ce491",
   "metadata": {
    "ExecuteTime": {
     "end_time": "2023-01-24T19:45:57.325596Z",
     "start_time": "2023-01-24T19:45:55.034716Z"
    }
   },
   "outputs": [
    {
     "data": {
      "image/png": "[encoded data removed]",
      "text/plain": [
       "<Figure size 432x288 with 1 Axes>"
      ]
     },
     "metadata": {
      "needs_background": "light"
     },
     "output_type": "display_data"
    },
    {
     "data": {
      "image/png": "[encoded data removed]",
      "text/plain": [
       "<Figure size 432x288 with 1 Axes>"
      ]
     },
     "metadata": {
      "needs_background": "light"
     },
     "output_type": "display_data"
    },
    {
     "data": {
      "image/png": "[encoded data removed]",
      "text/plain": [
       "<Figure size 432x288 with 2 Axes>"
      ]
     },
     "metadata": {
      "needs_background": "light"
     },
     "output_type": "display_data"
    }
   ],
   "source": [
    "#ax = plt.subplot()\n",
    "#confusion matrix\n",
    "\n",
    "\n",
    "\n",
    "class_cm = ConfusionMatrix(\n",
    "    rf, classes=classes\n",
    ")\n",
    "\n",
    "\n",
    "\n",
    "class_cm.fit(x_train, y_train)\n",
    "class_cm.score(x_test, y_validation)\n",
    "class_cm.show();\n",
    "\n",
    "\n",
    "#prediction error\n",
    "class_prediction_error(\n",
    "    rf,\n",
    "    x_train, y_train, x_test, y_validation,\n",
    "    classes=[\"0\", \"1\"]\n",
    ");\n",
    "\n",
    "\n",
    "\n",
    "\n",
    "#classification report\n",
    "\n",
    "\n",
    "\n",
    "visualizer = ClassificationReport(rf, classes=classes, support=True)\n",
    "\n",
    "visualizer.fit(x_train, y_train)              # Fit the visualizer and the model\n",
    "visualizer.score(x_test, y_validation)        # Evaluate the model on the test data\n",
    "visualizer.show();                             # Finalize and show the figure\n",
    "\n",
    "\n"
   ]
  },
  {
   "cell_type": "code",
   "execution_count": null,
   "id": "5fb76fd2",
   "metadata": {},
   "outputs": [],
   "source": []
  },
  {
   "cell_type": "code",
   "execution_count": null,
   "id": "aa54efd8",
   "metadata": {},
   "outputs": [],
   "source": []
  }
 ],
 "metadata": {
  "hide_input": false,
  "kernelspec": {
   "display_name": "Python 3 (ipykernel)",
   "language": "python",
   "name": "python3"
  },
  "language_info": {
   "codemirror_mode": {
    "name": "ipython",
    "version": 3
   },
   "file_extension": ".py",
   "mimetype": "text/x-python",
   "name": "python",
   "nbconvert_exporter": "python",
   "pygments_lexer": "ipython3",
   "version": "3.10.5"
  }
 },
 "nbformat": 4,
 "nbformat_minor": 5
}

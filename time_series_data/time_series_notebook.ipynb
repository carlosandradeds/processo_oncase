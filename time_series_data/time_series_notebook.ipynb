{
 "cells": [
  {
   "cell_type": "markdown",
   "id": "09510e95",
   "metadata": {},
   "source": [
    "# 0.0 Imports"
   ]
  },
  {
   "cell_type": "code",
   "execution_count": 1,
   "id": "847f785c",
   "metadata": {
    "ExecuteTime": {
     "end_time": "2023-01-27T02:30:31.249052Z",
     "start_time": "2023-01-27T02:30:29.263597Z"
    }
   },
   "outputs": [],
   "source": [
    "import pandas as pd\n",
    "import numpy as np\n",
    "import seaborn as sns\n",
    "\n",
    "\n",
    "from IPython.core.display  import HTML\n",
    "from matplotlib            import pyplot as plt\n",
    "from sklearn.ensemble      import RandomForestRegressor\n",
    "from sklearn.preprocessing import LabelEncoder, StandardScaler, MinMaxScaler, RobustScaler\n",
    "from sklearn.linear_model  import LinearRegression\n",
    "\n",
    "from sklearn.metrics import mean_squared_error, mean_absolute_percentage_error\n",
    "\n",
    "from sklearn.model_selection import cross_val_score, RandomizedSearchCV"
   ]
  },
  {
   "cell_type": "code",
   "execution_count": 2,
   "id": "8b939a9e",
   "metadata": {
    "ExecuteTime": {
     "end_time": "2023-01-27T02:30:31.265040Z",
     "start_time": "2023-01-27T02:30:31.251048Z"
    }
   },
   "outputs": [],
   "source": [
    "def jupyter_settings():\n",
    "        %matplotlib inline\n",
    "        \n",
    "        plt.style.use('bmh')\n",
    "        plt.rcParams['figure.figsize'] = [25 , 12]\n",
    "        plt.rcParams['font.size'] = 24\n",
    "        \n",
    "        display( HTML( '<style>.container { width:100% !important; }</style>') )\n",
    "        pd.options.display.max_columns = None\n",
    "        pd.options.display.max_rows = None\n",
    "        pd.set_option( 'display.expand_frame_repr', False )\n",
    "        \n",
    "        sns.set()"
   ]
  },
  {
   "cell_type": "code",
   "execution_count": 3,
   "id": "ddfcc188",
   "metadata": {
    "ExecuteTime": {
     "end_time": "2023-01-27T02:30:31.295021Z",
     "start_time": "2023-01-27T02:30:31.269038Z"
    }
   },
   "outputs": [
    {
     "data": {
      "text/html": [
       "<style>.container { width:100% !important; }</style>"
      ],
      "text/plain": [
       "<IPython.core.display.HTML object>"
      ]
     },
     "metadata": {},
     "output_type": "display_data"
    }
   ],
   "source": [
    "jupyter_settings()"
   ]
  },
  {
   "cell_type": "markdown",
   "id": "c43eca05",
   "metadata": {},
   "source": [
    "# 0.1 Load Dataset"
   ]
  },
  {
   "cell_type": "code",
   "execution_count": 4,
   "id": "d8267cd3",
   "metadata": {
    "ExecuteTime": {
     "end_time": "2023-01-27T02:30:32.011318Z",
     "start_time": "2023-01-27T02:30:31.297021Z"
    }
   },
   "outputs": [],
   "source": [
    "df = pd.read_excel('time_series_data.xlsx')"
   ]
  },
  {
   "cell_type": "code",
   "execution_count": 5,
   "id": "6dd849a3",
   "metadata": {
    "ExecuteTime": {
     "end_time": "2023-01-27T02:30:32.042045Z",
     "start_time": "2023-01-27T02:30:32.013320Z"
    }
   },
   "outputs": [
    {
     "data": {
      "text/html": [
       "<div>\n",
       "<style scoped>\n",
       "    .dataframe tbody tr th:only-of-type {\n",
       "        vertical-align: middle;\n",
       "    }\n",
       "\n",
       "    .dataframe tbody tr th {\n",
       "        vertical-align: top;\n",
       "    }\n",
       "\n",
       "    .dataframe thead th {\n",
       "        text-align: right;\n",
       "    }\n",
       "</style>\n",
       "<table border=\"1\" class=\"dataframe\">\n",
       "  <thead>\n",
       "    <tr style=\"text-align: right;\">\n",
       "      <th></th>\n",
       "      <th>produto_descricao</th>\n",
       "      <th>produto_quantidade</th>\n",
       "      <th>produto_unidade_comercial</th>\n",
       "      <th>produto_valor_unitario_comercializacao</th>\n",
       "      <th>nota_data_emissao</th>\n",
       "    </tr>\n",
       "  </thead>\n",
       "  <tbody>\n",
       "    <tr>\n",
       "      <th>0</th>\n",
       "      <td>A0</td>\n",
       "      <td>23568</td>\n",
       "      <td>UN</td>\n",
       "      <td>14.13</td>\n",
       "      <td>20210420</td>\n",
       "    </tr>\n",
       "    <tr>\n",
       "      <th>1</th>\n",
       "      <td>A0</td>\n",
       "      <td>25082</td>\n",
       "      <td>UN</td>\n",
       "      <td>14.13</td>\n",
       "      <td>20210420</td>\n",
       "    </tr>\n",
       "    <tr>\n",
       "      <th>2</th>\n",
       "      <td>A0</td>\n",
       "      <td>25430</td>\n",
       "      <td>UN</td>\n",
       "      <td>14.13</td>\n",
       "      <td>20210922</td>\n",
       "    </tr>\n",
       "    <tr>\n",
       "      <th>3</th>\n",
       "      <td>A0</td>\n",
       "      <td>25463</td>\n",
       "      <td>UN</td>\n",
       "      <td>12.84</td>\n",
       "      <td>20210209</td>\n",
       "    </tr>\n",
       "    <tr>\n",
       "      <th>4</th>\n",
       "      <td>A0</td>\n",
       "      <td>25800</td>\n",
       "      <td>UN</td>\n",
       "      <td>12.84</td>\n",
       "      <td>20210209</td>\n",
       "    </tr>\n",
       "  </tbody>\n",
       "</table>\n",
       "</div>"
      ],
      "text/plain": [
       "  produto_descricao  produto_quantidade produto_unidade_comercial  produto_valor_unitario_comercializacao  nota_data_emissao\n",
       "0                A0               23568                        UN                                   14.13           20210420\n",
       "1                A0               25082                        UN                                   14.13           20210420\n",
       "2                A0               25430                        UN                                   14.13           20210922\n",
       "3                A0               25463                        UN                                   12.84           20210209\n",
       "4                A0               25800                        UN                                   12.84           20210209"
      ]
     },
     "execution_count": 5,
     "metadata": {},
     "output_type": "execute_result"
    }
   ],
   "source": [
    "df.head()"
   ]
  },
  {
   "cell_type": "markdown",
   "id": "e57ae897",
   "metadata": {},
   "source": [
    "# 1.0 Data Description"
   ]
  },
  {
   "cell_type": "markdown",
   "id": "ee965a21",
   "metadata": {},
   "source": [
    "## 1.1 Data Dimension"
   ]
  },
  {
   "cell_type": "code",
   "execution_count": 6,
   "id": "14cd254f",
   "metadata": {
    "ExecuteTime": {
     "end_time": "2023-01-27T02:30:32.072175Z",
     "start_time": "2023-01-27T02:30:32.047040Z"
    }
   },
   "outputs": [
    {
     "name": "stdout",
     "output_type": "stream",
     "text": [
      "Number of rows: 4460\n",
      "Number of columns: 5\n"
     ]
    }
   ],
   "source": [
    "print('Number of rows: {}'.format(df.shape[0]))\n",
    "print('Number of columns: {}'.format(df.shape[1]))"
   ]
  },
  {
   "cell_type": "markdown",
   "id": "89de7b53",
   "metadata": {},
   "source": [
    "## 1.2 Check NA"
   ]
  },
  {
   "cell_type": "code",
   "execution_count": 7,
   "id": "b6fc5ac8",
   "metadata": {
    "ExecuteTime": {
     "end_time": "2023-01-27T02:30:32.088162Z",
     "start_time": "2023-01-27T02:30:32.075170Z"
    }
   },
   "outputs": [
    {
     "data": {
      "text/plain": [
       "produto_descricao                         0\n",
       "produto_quantidade                        0\n",
       "produto_unidade_comercial                 0\n",
       "produto_valor_unitario_comercializacao    0\n",
       "nota_data_emissao                         0\n",
       "dtype: int64"
      ]
     },
     "execution_count": 7,
     "metadata": {},
     "output_type": "execute_result"
    }
   ],
   "source": [
    "df.isna().sum()"
   ]
  },
  {
   "cell_type": "markdown",
   "id": "81bd3790",
   "metadata": {},
   "source": [
    "## 1.3 Data Types"
   ]
  },
  {
   "cell_type": "code",
   "execution_count": 8,
   "id": "8048ac4a",
   "metadata": {
    "ExecuteTime": {
     "end_time": "2023-01-27T02:30:32.104153Z",
     "start_time": "2023-01-27T02:30:32.090162Z"
    }
   },
   "outputs": [
    {
     "data": {
      "text/plain": [
       "produto_descricao                          object\n",
       "produto_quantidade                          int64\n",
       "produto_unidade_comercial                  object\n",
       "produto_valor_unitario_comercializacao    float64\n",
       "nota_data_emissao                           int64\n",
       "dtype: object"
      ]
     },
     "execution_count": 8,
     "metadata": {},
     "output_type": "execute_result"
    }
   ],
   "source": [
    "df.dtypes"
   ]
  },
  {
   "cell_type": "markdown",
   "id": "b1665834",
   "metadata": {},
   "source": [
    "## 1.4 Convert to Datetime"
   ]
  },
  {
   "cell_type": "code",
   "execution_count": 9,
   "id": "7853174b",
   "metadata": {
    "ExecuteTime": {
     "end_time": "2023-01-27T02:30:32.120142Z",
     "start_time": "2023-01-27T02:30:32.109150Z"
    }
   },
   "outputs": [],
   "source": [
    "df['nota_data_emissao'] = pd.to_datetime(df['nota_data_emissao'], format='%Y%m%d')"
   ]
  },
  {
   "cell_type": "code",
   "execution_count": 10,
   "id": "19531ded",
   "metadata": {
    "ExecuteTime": {
     "end_time": "2023-01-27T02:30:32.151141Z",
     "start_time": "2023-01-27T02:30:32.122141Z"
    }
   },
   "outputs": [
    {
     "data": {
      "text/html": [
       "<div>\n",
       "<style scoped>\n",
       "    .dataframe tbody tr th:only-of-type {\n",
       "        vertical-align: middle;\n",
       "    }\n",
       "\n",
       "    .dataframe tbody tr th {\n",
       "        vertical-align: top;\n",
       "    }\n",
       "\n",
       "    .dataframe thead th {\n",
       "        text-align: right;\n",
       "    }\n",
       "</style>\n",
       "<table border=\"1\" class=\"dataframe\">\n",
       "  <thead>\n",
       "    <tr style=\"text-align: right;\">\n",
       "      <th></th>\n",
       "      <th>produto_quantidade</th>\n",
       "      <th>produto_valor_unitario_comercializacao</th>\n",
       "    </tr>\n",
       "  </thead>\n",
       "  <tbody>\n",
       "    <tr>\n",
       "      <th>count</th>\n",
       "      <td>4460.000000</td>\n",
       "      <td>4460.000000</td>\n",
       "    </tr>\n",
       "    <tr>\n",
       "      <th>mean</th>\n",
       "      <td>424.202242</td>\n",
       "      <td>20.508176</td>\n",
       "    </tr>\n",
       "    <tr>\n",
       "      <th>std</th>\n",
       "      <td>2036.972760</td>\n",
       "      <td>44.426198</td>\n",
       "    </tr>\n",
       "    <tr>\n",
       "      <th>min</th>\n",
       "      <td>0.000000</td>\n",
       "      <td>0.620000</td>\n",
       "    </tr>\n",
       "    <tr>\n",
       "      <th>25%</th>\n",
       "      <td>45.000000</td>\n",
       "      <td>8.380000</td>\n",
       "    </tr>\n",
       "    <tr>\n",
       "      <th>50%</th>\n",
       "      <td>72.000000</td>\n",
       "      <td>11.420000</td>\n",
       "    </tr>\n",
       "    <tr>\n",
       "      <th>75%</th>\n",
       "      <td>183.000000</td>\n",
       "      <td>27.200000</td>\n",
       "    </tr>\n",
       "    <tr>\n",
       "      <th>max</th>\n",
       "      <td>42000.000000</td>\n",
       "      <td>1812.390400</td>\n",
       "    </tr>\n",
       "  </tbody>\n",
       "</table>\n",
       "</div>"
      ],
      "text/plain": [
       "       produto_quantidade  produto_valor_unitario_comercializacao\n",
       "count         4460.000000                             4460.000000\n",
       "mean           424.202242                               20.508176\n",
       "std           2036.972760                               44.426198\n",
       "min              0.000000                                0.620000\n",
       "25%             45.000000                                8.380000\n",
       "50%             72.000000                               11.420000\n",
       "75%            183.000000                               27.200000\n",
       "max          42000.000000                             1812.390400"
      ]
     },
     "execution_count": 10,
     "metadata": {},
     "output_type": "execute_result"
    }
   ],
   "source": [
    "df.describe()"
   ]
  },
  {
   "cell_type": "markdown",
   "id": "640fe667",
   "metadata": {},
   "source": [
    "# 2.0 Data Preparation"
   ]
  },
  {
   "cell_type": "code",
   "execution_count": 11,
   "id": "67af6731",
   "metadata": {
    "ExecuteTime": {
     "end_time": "2023-01-27T02:30:32.166148Z",
     "start_time": "2023-01-27T02:30:32.153140Z"
    }
   },
   "outputs": [],
   "source": [
    "#df = df.groupby(['nota_data_emissao', 'produto_descricao']).agg({'produto_unidade_comercial': 'first',\n",
    "#                                          'produto_valor_unitario_comercializacao': 'first', 'produto_quantidade': 'sum'}).reset_index()"
   ]
  },
  {
   "cell_type": "code",
   "execution_count": 12,
   "id": "32c39c79",
   "metadata": {
    "ExecuteTime": {
     "end_time": "2023-01-27T02:30:32.181277Z",
     "start_time": "2023-01-27T02:30:32.168147Z"
    }
   },
   "outputs": [],
   "source": [
    "rs = StandardScaler()"
   ]
  },
  {
   "cell_type": "code",
   "execution_count": 13,
   "id": "90b4bc1a",
   "metadata": {
    "ExecuteTime": {
     "end_time": "2023-01-27T02:30:32.197268Z",
     "start_time": "2023-01-27T02:30:32.184275Z"
    }
   },
   "outputs": [
    {
     "data": {
      "text/html": [
       "<style>#sk-container-id-1 {color: black;background-color: white;}#sk-container-id-1 pre{padding: 0;}#sk-container-id-1 div.sk-toggleable {background-color: white;}#sk-container-id-1 label.sk-toggleable__label {cursor: pointer;display: block;width: 100%;margin-bottom: 0;padding: 0.3em;box-sizing: border-box;text-align: center;}#sk-container-id-1 label.sk-toggleable__label-arrow:before {content: \"▸\";float: left;margin-right: 0.25em;color: #696969;}#sk-container-id-1 label.sk-toggleable__label-arrow:hover:before {color: black;}#sk-container-id-1 div.sk-estimator:hover label.sk-toggleable__label-arrow:before {color: black;}#sk-container-id-1 div.sk-toggleable__content {max-height: 0;max-width: 0;overflow: hidden;text-align: left;background-color: #f0f8ff;}#sk-container-id-1 div.sk-toggleable__content pre {margin: 0.2em;color: black;border-radius: 0.25em;background-color: #f0f8ff;}#sk-container-id-1 input.sk-toggleable__control:checked~div.sk-toggleable__content {max-height: 200px;max-width: 100%;overflow: auto;}#sk-container-id-1 input.sk-toggleable__control:checked~label.sk-toggleable__label-arrow:before {content: \"▾\";}#sk-container-id-1 div.sk-estimator input.sk-toggleable__control:checked~label.sk-toggleable__label {background-color: #d4ebff;}#sk-container-id-1 div.sk-label input.sk-toggleable__control:checked~label.sk-toggleable__label {background-color: #d4ebff;}#sk-container-id-1 input.sk-hidden--visually {border: 0;clip: rect(1px 1px 1px 1px);clip: rect(1px, 1px, 1px, 1px);height: 1px;margin: -1px;overflow: hidden;padding: 0;position: absolute;width: 1px;}#sk-container-id-1 div.sk-estimator {font-family: monospace;background-color: #f0f8ff;border: 1px dotted black;border-radius: 0.25em;box-sizing: border-box;margin-bottom: 0.5em;}#sk-container-id-1 div.sk-estimator:hover {background-color: #d4ebff;}#sk-container-id-1 div.sk-parallel-item::after {content: \"\";width: 100%;border-bottom: 1px solid gray;flex-grow: 1;}#sk-container-id-1 div.sk-label:hover label.sk-toggleable__label {background-color: #d4ebff;}#sk-container-id-1 div.sk-serial::before {content: \"\";position: absolute;border-left: 1px solid gray;box-sizing: border-box;top: 0;bottom: 0;left: 50%;z-index: 0;}#sk-container-id-1 div.sk-serial {display: flex;flex-direction: column;align-items: center;background-color: white;padding-right: 0.2em;padding-left: 0.2em;position: relative;}#sk-container-id-1 div.sk-item {position: relative;z-index: 1;}#sk-container-id-1 div.sk-parallel {display: flex;align-items: stretch;justify-content: center;background-color: white;position: relative;}#sk-container-id-1 div.sk-item::before, #sk-container-id-1 div.sk-parallel-item::before {content: \"\";position: absolute;border-left: 1px solid gray;box-sizing: border-box;top: 0;bottom: 0;left: 50%;z-index: -1;}#sk-container-id-1 div.sk-parallel-item {display: flex;flex-direction: column;z-index: 1;position: relative;background-color: white;}#sk-container-id-1 div.sk-parallel-item:first-child::after {align-self: flex-end;width: 50%;}#sk-container-id-1 div.sk-parallel-item:last-child::after {align-self: flex-start;width: 50%;}#sk-container-id-1 div.sk-parallel-item:only-child::after {width: 0;}#sk-container-id-1 div.sk-dashed-wrapped {border: 1px dashed gray;margin: 0 0.4em 0.5em 0.4em;box-sizing: border-box;padding-bottom: 0.4em;background-color: white;}#sk-container-id-1 div.sk-label label {font-family: monospace;font-weight: bold;display: inline-block;line-height: 1.2em;}#sk-container-id-1 div.sk-label-container {text-align: center;}#sk-container-id-1 div.sk-container {/* jupyter's `normalize.less` sets `[hidden] { display: none; }` but bootstrap.min.css set `[hidden] { display: none !important; }` so we also need the `!important` here to be able to override the default hidden behavior on the sphinx rendered scikit-learn.org. See: https://github.com/scikit-learn/scikit-learn/issues/21755 */display: inline-block !important;position: relative;}#sk-container-id-1 div.sk-text-repr-fallback {display: none;}</style><div id=\"sk-container-id-1\" class=\"sk-top-container\"><div class=\"sk-text-repr-fallback\"><pre>StandardScaler()</pre><b>In a Jupyter environment, please rerun this cell to show the HTML representation or trust the notebook. <br />On GitHub, the HTML representation is unable to render, please try loading this page with nbviewer.org.</b></div><div class=\"sk-container\" hidden><div class=\"sk-item\"><div class=\"sk-estimator sk-toggleable\"><input class=\"sk-toggleable__control sk-hidden--visually\" id=\"sk-estimator-id-1\" type=\"checkbox\" checked><label for=\"sk-estimator-id-1\" class=\"sk-toggleable__label sk-toggleable__label-arrow\">StandardScaler</label><div class=\"sk-toggleable__content\"><pre>StandardScaler()</pre></div></div></div></div></div>"
      ],
      "text/plain": [
       "StandardScaler()"
      ]
     },
     "execution_count": 13,
     "metadata": {},
     "output_type": "execute_result"
    }
   ],
   "source": [
    "rs.fit(df[['produto_quantidade']])"
   ]
  },
  {
   "cell_type": "code",
   "execution_count": 14,
   "id": "39db3cd0",
   "metadata": {
    "ExecuteTime": {
     "end_time": "2023-01-27T02:30:32.212260Z",
     "start_time": "2023-01-27T02:30:32.200266Z"
    }
   },
   "outputs": [],
   "source": [
    "#df['produto_quantidade'] = rs.transform(df[['produto_quantidade']])"
   ]
  },
  {
   "cell_type": "code",
   "execution_count": 15,
   "id": "47ab9da4",
   "metadata": {
    "ExecuteTime": {
     "end_time": "2023-01-27T02:30:32.227249Z",
     "start_time": "2023-01-27T02:30:32.215256Z"
    }
   },
   "outputs": [],
   "source": [
    "df_final = df.copy()"
   ]
  },
  {
   "cell_type": "code",
   "execution_count": 16,
   "id": "d18596ac",
   "metadata": {
    "ExecuteTime": {
     "end_time": "2023-01-27T02:30:32.243240Z",
     "start_time": "2023-01-27T02:30:32.229248Z"
    }
   },
   "outputs": [
    {
     "name": "stderr",
     "output_type": "stream",
     "text": [
      "C:\\Users\\kaka\\AppData\\Local\\Programs\\Python\\Python310\\lib\\site-packages\\sklearn\\base.py:493: FutureWarning: The feature names should match those that were passed during fit. Starting version 1.2, an error will be raised.\n",
      "Feature names unseen at fit time:\n",
      "- produto_valor_unitario_comercializacao\n",
      "Feature names seen at fit time, yet now missing:\n",
      "- produto_quantidade\n",
      "\n",
      "  warnings.warn(message, FutureWarning)\n"
     ]
    }
   ],
   "source": [
    "df['produto_quantidade'] = np.log1p(df['produto_quantidade'])\n",
    "\n",
    "df['produto_valor_unitario_comercializacao'] = rs.transform(df[['produto_valor_unitario_comercializacao']])"
   ]
  },
  {
   "cell_type": "code",
   "execution_count": 17,
   "id": "5e6d2c00",
   "metadata": {
    "ExecuteTime": {
     "end_time": "2023-01-27T02:30:32.258229Z",
     "start_time": "2023-01-27T02:30:32.245238Z"
    }
   },
   "outputs": [],
   "source": [
    "df['ano'] = pd.DatetimeIndex(df['nota_data_emissao']).year\n",
    "df['mes'] = pd.DatetimeIndex(df['nota_data_emissao']).month\n",
    "df['dia'] = pd.DatetimeIndex(df['nota_data_emissao']).day"
   ]
  },
  {
   "cell_type": "code",
   "execution_count": 18,
   "id": "8841690e",
   "metadata": {
    "ExecuteTime": {
     "end_time": "2023-01-27T02:30:32.320152Z",
     "start_time": "2023-01-27T02:30:32.261229Z"
    }
   },
   "outputs": [],
   "source": [
    "#month\n",
    "df['mes_sin'] = df['mes'].apply(lambda x: np.sin(x * (2 * np.pi/12)))\n",
    "df['mes_cos'] = df['mes'].apply(lambda x: np.cos(x * (2 * np.pi/12)))\n",
    "\n",
    "#day\n",
    "df['dia_sin'] = df['dia'].apply(lambda x: np.sin(x * (2 * np.pi/30)))\n",
    "df['dia_cos'] = df['dia'].apply(lambda x: np.cos(x * (2 * np.pi/30)))"
   ]
  },
  {
   "cell_type": "code",
   "execution_count": 19,
   "id": "0e2f42e5",
   "metadata": {
    "ExecuteTime": {
     "end_time": "2023-01-27T02:30:32.335483Z",
     "start_time": "2023-01-27T02:30:32.322151Z"
    }
   },
   "outputs": [],
   "source": [
    "le = LabelEncoder()"
   ]
  },
  {
   "cell_type": "code",
   "execution_count": 20,
   "id": "9a0fd941",
   "metadata": {
    "ExecuteTime": {
     "end_time": "2023-01-27T02:30:32.351105Z",
     "start_time": "2023-01-27T02:30:32.338483Z"
    }
   },
   "outputs": [],
   "source": [
    "le.fit(df['produto_descricao'])\n",
    "df['produto_descricao'] = le.transform(df['produto_descricao'])\n",
    "\n",
    "le.fit(df['produto_unidade_comercial'])\n",
    "df['produto_unidade_comercial'] = le.transform(df['produto_unidade_comercial'])\n",
    "\n",
    "\n",
    "le.fit(df['ano'])\n",
    "df['ano'] = le.transform(df['ano'])"
   ]
  },
  {
   "cell_type": "markdown",
   "id": "637c1b76",
   "metadata": {},
   "source": [
    "# 3.0 Machine Learnind Model"
   ]
  },
  {
   "cell_type": "code",
   "execution_count": 21,
   "id": "c47fffd2",
   "metadata": {
    "ExecuteTime": {
     "end_time": "2023-01-27T02:30:32.367095Z",
     "start_time": "2023-01-27T02:30:32.353103Z"
    }
   },
   "outputs": [
    {
     "name": "stdout",
     "output_type": "stream",
     "text": [
      "Training Min Date: 2020-10-01 00:00:00\n",
      "Training Max Date: 2021-08-02 00:00:00\n",
      "\n",
      "Test Min Date: 2021-08-04 00:00:00\n",
      "Test Max Date: 2021-09-30 00:00:00\n"
     ]
    }
   ],
   "source": [
    "#training dataset\n",
    "X_train = df[df['nota_data_emissao'] < '2021-08-03']\n",
    "y_train = X_train['produto_quantidade']\n",
    "\n",
    "#test dataset\n",
    "X_test = df[df['nota_data_emissao'] >= '2021-08-03']\n",
    "y_test = X_test['produto_quantidade']\n",
    "\n",
    "print( 'Training Min Date: {}'.format(X_train['nota_data_emissao'].min()))\n",
    "print( 'Training Max Date: {}'.format(X_train['nota_data_emissao'].max()))\n",
    "\n",
    "print( '\\nTest Min Date: {}'.format(X_test['nota_data_emissao'].min()))\n",
    "print( 'Test Max Date: {}'.format(X_test['nota_data_emissao'].max()))"
   ]
  },
  {
   "cell_type": "code",
   "execution_count": 22,
   "id": "c28d5f5f",
   "metadata": {
    "ExecuteTime": {
     "end_time": "2023-01-27T02:30:32.383093Z",
     "start_time": "2023-01-27T02:30:32.369093Z"
    }
   },
   "outputs": [],
   "source": [
    "X_train = X_train.drop(['dia', 'mes', 'nota_data_emissao', 'produto_quantidade'], axis=1)\n",
    "X_test = X_test.drop(['dia', 'mes', 'nota_data_emissao', 'produto_quantidade'], axis=1)"
   ]
  },
  {
   "cell_type": "code",
   "execution_count": 23,
   "id": "25a51236",
   "metadata": {
    "ExecuteTime": {
     "end_time": "2023-01-27T02:30:32.398275Z",
     "start_time": "2023-01-27T02:30:32.385092Z"
    }
   },
   "outputs": [],
   "source": [
    "#model \n",
    "lr =  LinearRegression().fit(X_train, y_train)\n",
    "\n",
    "#prediction\n",
    "yhat_lr = lr.predict(X_test)\n",
    "\n",
    "#perfomance\n",
    "#lr_result = ml_error('Linear Regression', np.expm1(y_test), np.expm1(yhat_lr))\n",
    "#lr_result"
   ]
  },
  {
   "cell_type": "code",
   "execution_count": 26,
   "id": "7e638933",
   "metadata": {
    "ExecuteTime": {
     "end_time": "2023-01-27T02:30:32.444264Z",
     "start_time": "2023-01-27T02:30:32.430272Z"
    }
   },
   "outputs": [
    {
     "data": {
      "text/plain": [
       "2560.242151059153"
      ]
     },
     "execution_count": 26,
     "metadata": {},
     "output_type": "execute_result"
    }
   ],
   "source": [
    "mean_squared_error(np.expm1(y_test), np.expm1(yhat_lr), squared=False)"
   ]
  },
  {
   "cell_type": "code",
   "execution_count": 27,
   "id": "d5c56ffc",
   "metadata": {
    "ExecuteTime": {
     "end_time": "2023-01-27T02:30:32.459255Z",
     "start_time": "2023-01-27T02:30:32.451260Z"
    }
   },
   "outputs": [
    {
     "data": {
      "text/plain": [
       "2.6151944038875365"
      ]
     },
     "execution_count": 27,
     "metadata": {},
     "output_type": "execute_result"
    }
   ],
   "source": [
    "mean_absolute_percentage_error(np.expm1(y_test), np.expm1(yhat_lr))"
   ]
  },
  {
   "cell_type": "code",
   "execution_count": 33,
   "id": "c5a69409",
   "metadata": {
    "ExecuteTime": {
     "end_time": "2023-01-27T02:30:32.553077Z",
     "start_time": "2023-01-27T02:30:32.539087Z"
    }
   },
   "outputs": [],
   "source": [
    "df_final = df_final[df_final['nota_data_emissao'] >= '2021-08-03']"
   ]
  },
  {
   "cell_type": "code",
   "execution_count": 34,
   "id": "28d2f2f0",
   "metadata": {
    "ExecuteTime": {
     "end_time": "2023-01-27T02:30:32.568069Z",
     "start_time": "2023-01-27T02:30:32.555077Z"
    }
   },
   "outputs": [],
   "source": [
    "df_final['predict'] = np.expm1(yhat_lr)"
   ]
  },
  {
   "cell_type": "code",
   "execution_count": 35,
   "id": "3af6d966",
   "metadata": {
    "ExecuteTime": {
     "end_time": "2023-01-27T02:30:37.178084Z",
     "start_time": "2023-01-27T02:30:32.570068Z"
    }
   },
   "outputs": [
    {
     "data": {
      "text/plain": [
       "<AxesSubplot: xlabel='nota_data_emissao', ylabel='produto_quantidade'>"
      ]
     },
     "execution_count": 35,
     "metadata": {},
     "output_type": "execute_result"
    },
    {
     "data": {
      "image/png": "[encoded data removed]",
      "text/plain": [
       "<Figure size 1800x864 with 1 Axes>"
      ]
     },
     "metadata": {},
     "output_type": "display_data"
    }
   ],
   "source": [
    "sns.lineplot(x='nota_data_emissao', y='produto_quantidade', data=df_final, label='SALES')\n",
    "sns.lineplot(x='nota_data_emissao', y='predict', data=df_final, label='PREDICTIONS')"
   ]
  },
  {
   "cell_type": "code",
   "execution_count": 36,
   "id": "8126a56c",
   "metadata": {
    "ExecuteTime": {
     "end_time": "2023-01-27T02:30:37.210011Z",
     "start_time": "2023-01-27T02:30:37.180083Z"
    }
   },
   "outputs": [
    {
     "data": {
      "text/html": [
       "<div>\n",
       "<style scoped>\n",
       "    .dataframe tbody tr th:only-of-type {\n",
       "        vertical-align: middle;\n",
       "    }\n",
       "\n",
       "    .dataframe tbody tr th {\n",
       "        vertical-align: top;\n",
       "    }\n",
       "\n",
       "    .dataframe thead th {\n",
       "        text-align: right;\n",
       "    }\n",
       "</style>\n",
       "<table border=\"1\" class=\"dataframe\">\n",
       "  <thead>\n",
       "    <tr style=\"text-align: right;\">\n",
       "      <th></th>\n",
       "      <th>produto_descricao</th>\n",
       "      <th>produto_quantidade</th>\n",
       "      <th>produto_unidade_comercial</th>\n",
       "      <th>produto_valor_unitario_comercializacao</th>\n",
       "      <th>nota_data_emissao</th>\n",
       "      <th>predict</th>\n",
       "    </tr>\n",
       "  </thead>\n",
       "  <tbody>\n",
       "    <tr>\n",
       "      <th>2</th>\n",
       "      <td>A0</td>\n",
       "      <td>25430</td>\n",
       "      <td>UN</td>\n",
       "      <td>14.1300</td>\n",
       "      <td>2021-09-22</td>\n",
       "      <td>371.902620</td>\n",
       "    </tr>\n",
       "    <tr>\n",
       "      <th>7</th>\n",
       "      <td>A0</td>\n",
       "      <td>25963</td>\n",
       "      <td>UN</td>\n",
       "      <td>14.1300</td>\n",
       "      <td>2021-09-30</td>\n",
       "      <td>302.820398</td>\n",
       "    </tr>\n",
       "    <tr>\n",
       "      <th>9</th>\n",
       "      <td>A0</td>\n",
       "      <td>26035</td>\n",
       "      <td>UN</td>\n",
       "      <td>14.1300</td>\n",
       "      <td>2021-09-22</td>\n",
       "      <td>371.902620</td>\n",
       "    </tr>\n",
       "    <tr>\n",
       "      <th>10</th>\n",
       "      <td>A0</td>\n",
       "      <td>26091</td>\n",
       "      <td>UN</td>\n",
       "      <td>14.1300</td>\n",
       "      <td>2021-09-30</td>\n",
       "      <td>302.820398</td>\n",
       "    </tr>\n",
       "    <tr>\n",
       "      <th>27</th>\n",
       "      <td>A7</td>\n",
       "      <td>950</td>\n",
       "      <td>KG</td>\n",
       "      <td>101.0083</td>\n",
       "      <td>2021-09-13</td>\n",
       "      <td>658.685983</td>\n",
       "    </tr>\n",
       "  </tbody>\n",
       "</table>\n",
       "</div>"
      ],
      "text/plain": [
       "   produto_descricao  produto_quantidade produto_unidade_comercial  produto_valor_unitario_comercializacao nota_data_emissao     predict\n",
       "2                 A0               25430                        UN                                 14.1300        2021-09-22  371.902620\n",
       "7                 A0               25963                        UN                                 14.1300        2021-09-30  302.820398\n",
       "9                 A0               26035                        UN                                 14.1300        2021-09-22  371.902620\n",
       "10                A0               26091                        UN                                 14.1300        2021-09-30  302.820398\n",
       "27                A7                 950                        KG                                101.0083        2021-09-13  658.685983"
      ]
     },
     "execution_count": 36,
     "metadata": {},
     "output_type": "execute_result"
    }
   ],
   "source": [
    "df_final.head()"
   ]
  },
  {
   "cell_type": "code",
   "execution_count": null,
   "id": "06381926",
   "metadata": {},
   "outputs": [],
   "source": []
  }
 ],
 "metadata": {
  "hide_input": false,
  "kernelspec": {
   "display_name": "Python 3 (ipykernel)",
   "language": "python",
   "name": "python3"
  },
  "language_info": {
   "codemirror_mode": {
    "name": "ipython",
    "version": 3
   },
   "file_extension": ".py",
   "mimetype": "text/x-python",
   "name": "python",
   "nbconvert_exporter": "python",
   "pygments_lexer": "ipython3",
   "version": "3.10.5"
  }
 },
 "nbformat": 4,
 "nbformat_minor": 5
}
